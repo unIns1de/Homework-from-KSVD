{
  "nbformat": 4,
  "nbformat_minor": 0,
  "metadata": {
    "colab": {
      "provenance": []
    },
    "kernelspec": {
      "name": "python3",
      "display_name": "Python 3"
    },
    "language_info": {
      "name": "python"
    }
  },
  "cells": [
    {
      "cell_type": "markdown",
      "source": [
        "  #Лабораторна робота 2. Аналіз даних. Робота з даними csv\n",
        "  [Посилання на GitHub](https://github.com/unIns1de/Homework-from-KSVD/blob/main/%D0%91%D0%B0%D1%80%D1%82%D0%BE%D1%88_%D0%9B%D0%A0_2.ipynb)"
      ],
      "metadata": {
        "id": "xWYeXXSYteNp"
      }
    },
    {
      "cell_type": "markdown",
      "source": [
        "1. Прочитайте CSV файл (використовуйте метод read_csv):"
      ],
      "metadata": {
        "id": "-H-nBl6vtyK-"
      }
    },
    {
      "cell_type": "code",
      "source": [
        "from google.colab import files\n",
        "import pandas as pd\n",
        "import numpy as np\n",
        "import matplotlib.pyplot as plt\n",
        "\n",
        "uploaded = files.upload()\n",
        "file_name = next(iter(uploaded))\n",
        "\n",
        "df = pd.read_csv(file_name, encoding='ISO-8859-1')"
      ],
      "metadata": {
        "colab": {
          "base_uri": "https://localhost:8080/",
          "height": 74
        },
        "id": "8Yl_uHc4teWd",
        "outputId": "5f7a9415-7aff-4d10-b4a3-377cbd3a8e7e"
      },
      "execution_count": 10,
      "outputs": [
        {
          "output_type": "display_data",
          "data": {
            "text/plain": [
              "<IPython.core.display.HTML object>"
            ],
            "text/html": [
              "\n",
              "     <input type=\"file\" id=\"files-4bce0f3c-346d-48dd-b6e8-7cea9d88fd9e\" name=\"files[]\" multiple disabled\n",
              "        style=\"border:none\" />\n",
              "     <output id=\"result-4bce0f3c-346d-48dd-b6e8-7cea9d88fd9e\">\n",
              "      Upload widget is only available when the cell has been executed in the\n",
              "      current browser session. Please rerun this cell to enable.\n",
              "      </output>\n",
              "      <script>// Copyright 2017 Google LLC\n",
              "//\n",
              "// Licensed under the Apache License, Version 2.0 (the \"License\");\n",
              "// you may not use this file except in compliance with the License.\n",
              "// You may obtain a copy of the License at\n",
              "//\n",
              "//      http://www.apache.org/licenses/LICENSE-2.0\n",
              "//\n",
              "// Unless required by applicable law or agreed to in writing, software\n",
              "// distributed under the License is distributed on an \"AS IS\" BASIS,\n",
              "// WITHOUT WARRANTIES OR CONDITIONS OF ANY KIND, either express or implied.\n",
              "// See the License for the specific language governing permissions and\n",
              "// limitations under the License.\n",
              "\n",
              "/**\n",
              " * @fileoverview Helpers for google.colab Python module.\n",
              " */\n",
              "(function(scope) {\n",
              "function span(text, styleAttributes = {}) {\n",
              "  const element = document.createElement('span');\n",
              "  element.textContent = text;\n",
              "  for (const key of Object.keys(styleAttributes)) {\n",
              "    element.style[key] = styleAttributes[key];\n",
              "  }\n",
              "  return element;\n",
              "}\n",
              "\n",
              "// Max number of bytes which will be uploaded at a time.\n",
              "const MAX_PAYLOAD_SIZE = 100 * 1024;\n",
              "\n",
              "function _uploadFiles(inputId, outputId) {\n",
              "  const steps = uploadFilesStep(inputId, outputId);\n",
              "  const outputElement = document.getElementById(outputId);\n",
              "  // Cache steps on the outputElement to make it available for the next call\n",
              "  // to uploadFilesContinue from Python.\n",
              "  outputElement.steps = steps;\n",
              "\n",
              "  return _uploadFilesContinue(outputId);\n",
              "}\n",
              "\n",
              "// This is roughly an async generator (not supported in the browser yet),\n",
              "// where there are multiple asynchronous steps and the Python side is going\n",
              "// to poll for completion of each step.\n",
              "// This uses a Promise to block the python side on completion of each step,\n",
              "// then passes the result of the previous step as the input to the next step.\n",
              "function _uploadFilesContinue(outputId) {\n",
              "  const outputElement = document.getElementById(outputId);\n",
              "  const steps = outputElement.steps;\n",
              "\n",
              "  const next = steps.next(outputElement.lastPromiseValue);\n",
              "  return Promise.resolve(next.value.promise).then((value) => {\n",
              "    // Cache the last promise value to make it available to the next\n",
              "    // step of the generator.\n",
              "    outputElement.lastPromiseValue = value;\n",
              "    return next.value.response;\n",
              "  });\n",
              "}\n",
              "\n",
              "/**\n",
              " * Generator function which is called between each async step of the upload\n",
              " * process.\n",
              " * @param {string} inputId Element ID of the input file picker element.\n",
              " * @param {string} outputId Element ID of the output display.\n",
              " * @return {!Iterable<!Object>} Iterable of next steps.\n",
              " */\n",
              "function* uploadFilesStep(inputId, outputId) {\n",
              "  const inputElement = document.getElementById(inputId);\n",
              "  inputElement.disabled = false;\n",
              "\n",
              "  const outputElement = document.getElementById(outputId);\n",
              "  outputElement.innerHTML = '';\n",
              "\n",
              "  const pickedPromise = new Promise((resolve) => {\n",
              "    inputElement.addEventListener('change', (e) => {\n",
              "      resolve(e.target.files);\n",
              "    });\n",
              "  });\n",
              "\n",
              "  const cancel = document.createElement('button');\n",
              "  inputElement.parentElement.appendChild(cancel);\n",
              "  cancel.textContent = 'Cancel upload';\n",
              "  const cancelPromise = new Promise((resolve) => {\n",
              "    cancel.onclick = () => {\n",
              "      resolve(null);\n",
              "    };\n",
              "  });\n",
              "\n",
              "  // Wait for the user to pick the files.\n",
              "  const files = yield {\n",
              "    promise: Promise.race([pickedPromise, cancelPromise]),\n",
              "    response: {\n",
              "      action: 'starting',\n",
              "    }\n",
              "  };\n",
              "\n",
              "  cancel.remove();\n",
              "\n",
              "  // Disable the input element since further picks are not allowed.\n",
              "  inputElement.disabled = true;\n",
              "\n",
              "  if (!files) {\n",
              "    return {\n",
              "      response: {\n",
              "        action: 'complete',\n",
              "      }\n",
              "    };\n",
              "  }\n",
              "\n",
              "  for (const file of files) {\n",
              "    const li = document.createElement('li');\n",
              "    li.append(span(file.name, {fontWeight: 'bold'}));\n",
              "    li.append(span(\n",
              "        `(${file.type || 'n/a'}) - ${file.size} bytes, ` +\n",
              "        `last modified: ${\n",
              "            file.lastModifiedDate ? file.lastModifiedDate.toLocaleDateString() :\n",
              "                                    'n/a'} - `));\n",
              "    const percent = span('0% done');\n",
              "    li.appendChild(percent);\n",
              "\n",
              "    outputElement.appendChild(li);\n",
              "\n",
              "    const fileDataPromise = new Promise((resolve) => {\n",
              "      const reader = new FileReader();\n",
              "      reader.onload = (e) => {\n",
              "        resolve(e.target.result);\n",
              "      };\n",
              "      reader.readAsArrayBuffer(file);\n",
              "    });\n",
              "    // Wait for the data to be ready.\n",
              "    let fileData = yield {\n",
              "      promise: fileDataPromise,\n",
              "      response: {\n",
              "        action: 'continue',\n",
              "      }\n",
              "    };\n",
              "\n",
              "    // Use a chunked sending to avoid message size limits. See b/62115660.\n",
              "    let position = 0;\n",
              "    do {\n",
              "      const length = Math.min(fileData.byteLength - position, MAX_PAYLOAD_SIZE);\n",
              "      const chunk = new Uint8Array(fileData, position, length);\n",
              "      position += length;\n",
              "\n",
              "      const base64 = btoa(String.fromCharCode.apply(null, chunk));\n",
              "      yield {\n",
              "        response: {\n",
              "          action: 'append',\n",
              "          file: file.name,\n",
              "          data: base64,\n",
              "        },\n",
              "      };\n",
              "\n",
              "      let percentDone = fileData.byteLength === 0 ?\n",
              "          100 :\n",
              "          Math.round((position / fileData.byteLength) * 100);\n",
              "      percent.textContent = `${percentDone}% done`;\n",
              "\n",
              "    } while (position < fileData.byteLength);\n",
              "  }\n",
              "\n",
              "  // All done.\n",
              "  yield {\n",
              "    response: {\n",
              "      action: 'complete',\n",
              "    }\n",
              "  };\n",
              "}\n",
              "\n",
              "scope.google = scope.google || {};\n",
              "scope.google.colab = scope.google.colab || {};\n",
              "scope.google.colab._files = {\n",
              "  _uploadFiles,\n",
              "  _uploadFilesContinue,\n",
              "};\n",
              "})(self);\n",
              "</script> "
            ]
          },
          "metadata": {}
        },
        {
          "output_type": "stream",
          "name": "stdout",
          "text": [
            "Saving Global YouTube Statistics.csv to Global YouTube Statistics (1).csv\n"
          ]
        }
      ]
    },
    {
      "cell_type": "markdown",
      "source": [
        "2. Виведіть перші п'ять рядків (використовується метод head):"
      ],
      "metadata": {
        "id": "ozmIOzXvtec-"
      }
    },
    {
      "cell_type": "code",
      "source": [
        "print(\"Перші 5 рядків:\")\n",
        "print(df.head())"
      ],
      "metadata": {
        "colab": {
          "base_uri": "https://localhost:8080/"
        },
        "collapsed": true,
        "id": "dikHrqu4teic",
        "outputId": "dc48a9fd-2ad8-4ab4-af3e-b8d6429b1421"
      },
      "execution_count": 11,
      "outputs": [
        {
          "output_type": "stream",
          "name": "stdout",
          "text": [
            "Перші 5 рядків:\n",
            "   rank                    Youtuber  subscribers   video views  \\\n",
            "0     1                    T-Series    245000000  2.280000e+11   \n",
            "1     2              YouTube Movies    170000000  0.000000e+00   \n",
            "2     3                     MrBeast    166000000  2.836884e+10   \n",
            "3     4  Cocomelon - Nursery Rhymes    162000000  1.640000e+11   \n",
            "4     5                   SET India    159000000  1.480000e+11   \n",
            "\n",
            "           category                       Title  uploads        Country  \\\n",
            "0             Music                    T-Series    20082          India   \n",
            "1  Film & Animation               youtubemovies        1  United States   \n",
            "2     Entertainment                     MrBeast      741  United States   \n",
            "3         Education  Cocomelon - Nursery Rhymes      966  United States   \n",
            "4             Shows                   SET India   116536          India   \n",
            "\n",
            "  Abbreviation   channel_type  ...  subscribers_for_last_30_days  \\\n",
            "0           IN          Music  ...                     2000000.0   \n",
            "1           US          Games  ...                           NaN   \n",
            "2           US  Entertainment  ...                     8000000.0   \n",
            "3           US      Education  ...                     1000000.0   \n",
            "4           IN  Entertainment  ...                     1000000.0   \n",
            "\n",
            "   created_year  created_month  created_date  \\\n",
            "0        2006.0            Mar          13.0   \n",
            "1        2006.0            Mar           5.0   \n",
            "2        2012.0            Feb          20.0   \n",
            "3        2006.0            Sep           1.0   \n",
            "4        2006.0            Sep          20.0   \n",
            "\n",
            "   Gross tertiary education enrollment (%)    Population  Unemployment rate  \\\n",
            "0                                     28.1  1.366418e+09               5.36   \n",
            "1                                     88.2  3.282395e+08              14.70   \n",
            "2                                     88.2  3.282395e+08              14.70   \n",
            "3                                     88.2  3.282395e+08              14.70   \n",
            "4                                     28.1  1.366418e+09               5.36   \n",
            "\n",
            "   Urban_population   Latitude  Longitude  \n",
            "0       471031528.0  20.593684  78.962880  \n",
            "1       270663028.0  37.090240 -95.712891  \n",
            "2       270663028.0  37.090240 -95.712891  \n",
            "3       270663028.0  37.090240 -95.712891  \n",
            "4       471031528.0  20.593684  78.962880  \n",
            "\n",
            "[5 rows x 28 columns]\n"
          ]
        }
      ]
    },
    {
      "cell_type": "markdown",
      "source": [
        "3. Виведіть розміри датасету (використовуйте метод shape):\n"
      ],
      "metadata": {
        "id": "1ASDMgxLuIgp"
      }
    },
    {
      "cell_type": "code",
      "source": [
        "print(\"\\nРозмір датасету:\", df.shape)"
      ],
      "metadata": {
        "colab": {
          "base_uri": "https://localhost:8080/"
        },
        "id": "EnqoZK6xuKBx",
        "outputId": "5dbfa5b5-50ed-4a13-880f-3c9bf856d586"
      },
      "execution_count": 22,
      "outputs": [
        {
          "output_type": "stream",
          "name": "stdout",
          "text": [
            "\n",
            "Розмір датасету: (995, 28)\n"
          ]
        }
      ]
    },
    {
      "cell_type": "markdown",
      "source": [
        "4. Перевірте, чи у всіх рядків вистачає даних: виведіть кількість пропусків  у кожному зі стовпців (використовуйте методи isna та sum).\n",
        "Якщо є пропуски, замінить їх на NaN, потім тип даних на числовий."
      ],
      "metadata": {
        "id": "UjADadRxuLZ0"
      }
    },
    {
      "cell_type": "code",
      "source": [
        "print(\"\\nПропущені значення у кожному стовпці:\")\n",
        "print(df.isna().sum())"
      ],
      "metadata": {
        "colab": {
          "base_uri": "https://localhost:8080/"
        },
        "id": "Ij57DzzktewR",
        "outputId": "1f8bfd52-0c25-4402-a06a-46a051b8ae8b"
      },
      "execution_count": 23,
      "outputs": [
        {
          "output_type": "stream",
          "name": "stdout",
          "text": [
            "\n",
            "Пропущені значення у кожному стовпці:\n",
            "rank                                         0\n",
            "Youtuber                                     0\n",
            "subscribers                                  0\n",
            "video views                                  0\n",
            "category                                    46\n",
            "Title                                        0\n",
            "uploads                                      0\n",
            "Country                                    122\n",
            "Abbreviation                               122\n",
            "channel_type                                30\n",
            "video_views_rank                             1\n",
            "country_rank                               116\n",
            "channel_type_rank                           33\n",
            "video_views_for_the_last_30_days            56\n",
            "lowest_monthly_earnings                      0\n",
            "highest_monthly_earnings                     0\n",
            "lowest_yearly_earnings                       0\n",
            "highest_yearly_earnings                      0\n",
            "subscribers_for_last_30_days               337\n",
            "created_year                                 5\n",
            "created_month                                5\n",
            "created_date                                 5\n",
            "Gross tertiary education enrollment (%)    123\n",
            "Population                                 123\n",
            "Unemployment rate                          123\n",
            "Urban_population                           123\n",
            "Latitude                                   123\n",
            "Longitude                                  123\n",
            "dtype: int64\n"
          ]
        }
      ]
    },
    {
      "cell_type": "markdown",
      "source": [
        "5. Замініть комірки з пропущеними значенями на середні за стовпцем. І тип даних на float.\n"
      ],
      "metadata": {
        "id": "Jd0fg0bhuUFf"
      }
    },
    {
      "cell_type": "code",
      "source": [
        "cols_to_numeric = ['subscribers', 'video views', 'uploads',\n",
        "                   'video_views_for_the_last_30_days', 'lowest_monthly_earnings',\n",
        "                   'highest_monthly_earnings', 'lowest_yearly_earnings',\n",
        "                   'highest_yearly_earnings', 'subscribers_for_last_30_days',\n",
        "                   'Gross tertiary education enrollment (%)', 'Population',\n",
        "                   'Unemployment rate', 'Urban_population', 'Latitude', 'Longitude']\n",
        "\n",
        "for col in cols_to_numeric:\n",
        "    df[col] = pd.to_numeric(df[col], errors='coerce')\n",
        "\n",
        "for col in cols_to_numeric:\n",
        "    df[col] = df[col].fillna(df[col].mean()).astype(float)"
      ],
      "metadata": {
        "id": "0DRl1itgte7L"
      },
      "execution_count": 27,
      "outputs": []
    },
    {
      "cell_type": "markdown",
      "source": [
        "6. Ще раз перевірте кількість пропусків.\n"
      ],
      "metadata": {
        "id": "vJBhZzF9tfBv"
      }
    },
    {
      "cell_type": "code",
      "source": [
        "print(\"\\nПропущені значення після обробки:\")\n",
        "print(df.isna().sum())"
      ],
      "metadata": {
        "colab": {
          "base_uri": "https://localhost:8080/"
        },
        "id": "guRx8UPatfG6",
        "outputId": "9fa92da2-e6e3-4079-d455-c46542cd612b"
      },
      "execution_count": 28,
      "outputs": [
        {
          "output_type": "stream",
          "name": "stdout",
          "text": [
            "\n",
            "Пропущені значення після обробки:\n",
            "rank                                         0\n",
            "Youtuber                                     0\n",
            "subscribers                                  0\n",
            "video views                                  0\n",
            "category                                    46\n",
            "Title                                        0\n",
            "uploads                                      0\n",
            "Country                                    122\n",
            "Abbreviation                               122\n",
            "channel_type                                30\n",
            "video_views_rank                             1\n",
            "country_rank                               116\n",
            "channel_type_rank                           33\n",
            "video_views_for_the_last_30_days             0\n",
            "lowest_monthly_earnings                      0\n",
            "highest_monthly_earnings                     0\n",
            "lowest_yearly_earnings                       0\n",
            "highest_yearly_earnings                      0\n",
            "subscribers_for_last_30_days                 0\n",
            "created_year                                 5\n",
            "created_month                                5\n",
            "created_date                                 5\n",
            "Gross tertiary education enrollment (%)      0\n",
            "Population                                   0\n",
            "Unemployment rate                            0\n",
            "Urban_population                             0\n",
            "Latitude                                     0\n",
            "Longitude                                    0\n",
            "dtype: int64\n"
          ]
        }
      ]
    },
    {
      "cell_type": "markdown",
      "source": [],
      "metadata": {
        "id": "vBfsNqrStfOu"
      }
    },
    {
      "cell_type": "markdown",
      "source": [
        "7. Перевірте, скільки унікальних країн представлено у колонці \"Country\"\n"
      ],
      "metadata": {
        "id": "P0b7Sddgtfbg"
      }
    },
    {
      "cell_type": "code",
      "source": [
        "print(\"\\nКількість унікальних країн:\", df['Country'].nunique())"
      ],
      "metadata": {
        "colab": {
          "base_uri": "https://localhost:8080/"
        },
        "id": "xI5t25uBtfjB",
        "outputId": "4f499463-90c1-4152-990f-fd6a21167c81"
      },
      "execution_count": 29,
      "outputs": [
        {
          "output_type": "stream",
          "name": "stdout",
          "text": [
            "\n",
            "Кількість унікальних країн: 49\n"
          ]
        }
      ]
    },
    {
      "cell_type": "markdown",
      "source": [
        "8. Побудуйте діаграму розподілу переглядів (використовуйте kind='hist'):\n"
      ],
      "metadata": {
        "id": "dqe6BxkGtfqD"
      }
    },
    {
      "cell_type": "code",
      "source": [
        "plt.figure(figsize=(10, 6))\n",
        "df['video views'].plot(kind='hist', bins=30, title='Розподіл переглядів')\n",
        "plt.xlabel('Кількість переглядів')\n",
        "plt.ylabel('Кількість каналів')\n",
        "plt.grid(True)\n",
        "plt.show()"
      ],
      "metadata": {
        "colab": {
          "base_uri": "https://localhost:8080/",
          "height": 459
        },
        "id": "IbZeioKctfxX",
        "outputId": "73180740-673a-4ff0-e2de-23f95a75df9a"
      },
      "execution_count": 30,
      "outputs": [
        {
          "output_type": "display_data",
          "data": {
            "text/plain": [
              "<Figure size 1000x600 with 1 Axes>"
            ],
            "image/png": "[encoded data removed]"
          },
          "metadata": {}
        }
      ]
    },
    {
      "cell_type": "markdown",
      "source": [
        "9. Визначте максимальну, мінімальну, середню кількість переглядів (використовуйте методи max, min, mean)\n"
      ],
      "metadata": {
        "id": "63Vpa2suuedW"
      }
    },
    {
      "cell_type": "code",
      "source": [
        "print(\"\\nМаксимум переглядів:\", df['video views'].max())\n",
        "print(\"Мінімум переглядів:\", df['video views'].min())\n",
        "print(\"Середнє переглядів:\", df['video views'].mean())"
      ],
      "metadata": {
        "colab": {
          "base_uri": "https://localhost:8080/"
        },
        "id": "poKlRG5gue0A",
        "outputId": "6a145b13-80cd-45c3-f229-819b1211e263"
      },
      "execution_count": 31,
      "outputs": [
        {
          "output_type": "stream",
          "name": "stdout",
          "text": [
            "\n",
            "Максимум переглядів: 228000000000.0\n",
            "Мінімум переглядів: 0.0\n",
            "Середнє переглядів: 11039537052.03819\n"
          ]
        }
      ]
    },
    {
      "cell_type": "markdown",
      "source": [
        "10.Знайдіть країну, де найбільше відео було завантажено на YouTube\n"
      ],
      "metadata": {
        "id": "-IDfx65KufGf"
      }
    },
    {
      "cell_type": "code",
      "source": [
        "country_uploads = df.groupby('Country')['uploads'].sum().sort_values(ascending=False)\n",
        "print(\"\\nКраїна з найбільшою кількістю завантажених відео:\", country_uploads.index[0])"
      ],
      "metadata": {
        "colab": {
          "base_uri": "https://localhost:8080/"
        },
        "id": "MY60LByXukMR",
        "outputId": "962edf9f-84bb-49fe-94d3-aaca8efba7c5"
      },
      "execution_count": 32,
      "outputs": [
        {
          "output_type": "stream",
          "name": "stdout",
          "text": [
            "\n",
            "Країна з найбільшою кількістю завантажених відео: India\n"
          ]
        }
      ]
    },
    {
      "cell_type": "markdown",
      "source": [
        "11. Знайдіть відео (виведіть його назву) з найбільшою та найменшою кількістю завантажень uploads."
      ],
      "metadata": {
        "id": "GDSmIlNcumL4"
      }
    },
    {
      "cell_type": "code",
      "source": [
        "max_uploads_title = df[df['uploads'] == df['uploads'].max()]['Title'].values[0]\n",
        "min_uploads_title = df[df['uploads'] == df['uploads'].min()]['Title'].values[0]\n",
        "\n",
        "print(\"\\nНазва відео з найбільшою кількістю завантажень:\", max_uploads_title)\n",
        "print(\"Назва відео з найменшою кількістю завантажень:\", min_uploads_title)"
      ],
      "metadata": {
        "colab": {
          "base_uri": "https://localhost:8080/"
        },
        "id": "IaQ46G92unBR",
        "outputId": "3495c99d-4f4a-4b18-a65b-6ed5f35250b5"
      },
      "execution_count": 33,
      "outputs": [
        {
          "output_type": "stream",
          "name": "stdout",
          "text": [
            "\n",
            "Назва відео з найбільшою кількістю завантажень: ABP NEWS\n",
            "Назва відео з найменшою кількістю завантажень: Music\n"
          ]
        }
      ]
    },
    {
      "cell_type": "markdown",
      "source": [
        "# Завдання 2"
      ],
      "metadata": {
        "id": "bHOiXenF2DTw"
      }
    },
    {
      "cell_type": "markdown",
      "source": [
        "1. Прочитайте csv файл (метод read_csv)"
      ],
      "metadata": {
        "id": "QO5-zKnJ2DEG"
      }
    },
    {
      "cell_type": "code",
      "source": [
        "uploaded = files.upload()\n",
        "file_name2 = next(iter(uploaded))\n",
        "df = pd.read_csv(file_name2, encoding='ISO-8859-1')"
      ],
      "metadata": {
        "colab": {
          "base_uri": "https://localhost:8080/",
          "height": 74
        },
        "id": "WkJwSrft2C-r",
        "outputId": "0fe8eff6-91a9-4303-a7c8-7b36cd01d495"
      },
      "execution_count": 35,
      "outputs": [
        {
          "output_type": "display_data",
          "data": {
            "text/plain": [
              "<IPython.core.display.HTML object>"
            ],
            "text/html": [
              "\n",
              "     <input type=\"file\" id=\"files-91bd7f86-5ea6-4e63-9722-f976aca38cf2\" name=\"files[]\" multiple disabled\n",
              "        style=\"border:none\" />\n",
              "     <output id=\"result-91bd7f86-5ea6-4e63-9722-f976aca38cf2\">\n",
              "      Upload widget is only available when the cell has been executed in the\n",
              "      current browser session. Please rerun this cell to enable.\n",
              "      </output>\n",
              "      <script>// Copyright 2017 Google LLC\n",
              "//\n",
              "// Licensed under the Apache License, Version 2.0 (the \"License\");\n",
              "// you may not use this file except in compliance with the License.\n",
              "// You may obtain a copy of the License at\n",
              "//\n",
              "//      http://www.apache.org/licenses/LICENSE-2.0\n",
              "//\n",
              "// Unless required by applicable law or agreed to in writing, software\n",
              "// distributed under the License is distributed on an \"AS IS\" BASIS,\n",
              "// WITHOUT WARRANTIES OR CONDITIONS OF ANY KIND, either express or implied.\n",
              "// See the License for the specific language governing permissions and\n",
              "// limitations under the License.\n",
              "\n",
              "/**\n",
              " * @fileoverview Helpers for google.colab Python module.\n",
              " */\n",
              "(function(scope) {\n",
              "function span(text, styleAttributes = {}) {\n",
              "  const element = document.createElement('span');\n",
              "  element.textContent = text;\n",
              "  for (const key of Object.keys(styleAttributes)) {\n",
              "    element.style[key] = styleAttributes[key];\n",
              "  }\n",
              "  return element;\n",
              "}\n",
              "\n",
              "// Max number of bytes which will be uploaded at a time.\n",
              "const MAX_PAYLOAD_SIZE = 100 * 1024;\n",
              "\n",
              "function _uploadFiles(inputId, outputId) {\n",
              "  const steps = uploadFilesStep(inputId, outputId);\n",
              "  const outputElement = document.getElementById(outputId);\n",
              "  // Cache steps on the outputElement to make it available for the next call\n",
              "  // to uploadFilesContinue from Python.\n",
              "  outputElement.steps = steps;\n",
              "\n",
              "  return _uploadFilesContinue(outputId);\n",
              "}\n",
              "\n",
              "// This is roughly an async generator (not supported in the browser yet),\n",
              "// where there are multiple asynchronous steps and the Python side is going\n",
              "// to poll for completion of each step.\n",
              "// This uses a Promise to block the python side on completion of each step,\n",
              "// then passes the result of the previous step as the input to the next step.\n",
              "function _uploadFilesContinue(outputId) {\n",
              "  const outputElement = document.getElementById(outputId);\n",
              "  const steps = outputElement.steps;\n",
              "\n",
              "  const next = steps.next(outputElement.lastPromiseValue);\n",
              "  return Promise.resolve(next.value.promise).then((value) => {\n",
              "    // Cache the last promise value to make it available to the next\n",
              "    // step of the generator.\n",
              "    outputElement.lastPromiseValue = value;\n",
              "    return next.value.response;\n",
              "  });\n",
              "}\n",
              "\n",
              "/**\n",
              " * Generator function which is called between each async step of the upload\n",
              " * process.\n",
              " * @param {string} inputId Element ID of the input file picker element.\n",
              " * @param {string} outputId Element ID of the output display.\n",
              " * @return {!Iterable<!Object>} Iterable of next steps.\n",
              " */\n",
              "function* uploadFilesStep(inputId, outputId) {\n",
              "  const inputElement = document.getElementById(inputId);\n",
              "  inputElement.disabled = false;\n",
              "\n",
              "  const outputElement = document.getElementById(outputId);\n",
              "  outputElement.innerHTML = '';\n",
              "\n",
              "  const pickedPromise = new Promise((resolve) => {\n",
              "    inputElement.addEventListener('change', (e) => {\n",
              "      resolve(e.target.files);\n",
              "    });\n",
              "  });\n",
              "\n",
              "  const cancel = document.createElement('button');\n",
              "  inputElement.parentElement.appendChild(cancel);\n",
              "  cancel.textContent = 'Cancel upload';\n",
              "  const cancelPromise = new Promise((resolve) => {\n",
              "    cancel.onclick = () => {\n",
              "      resolve(null);\n",
              "    };\n",
              "  });\n",
              "\n",
              "  // Wait for the user to pick the files.\n",
              "  const files = yield {\n",
              "    promise: Promise.race([pickedPromise, cancelPromise]),\n",
              "    response: {\n",
              "      action: 'starting',\n",
              "    }\n",
              "  };\n",
              "\n",
              "  cancel.remove();\n",
              "\n",
              "  // Disable the input element since further picks are not allowed.\n",
              "  inputElement.disabled = true;\n",
              "\n",
              "  if (!files) {\n",
              "    return {\n",
              "      response: {\n",
              "        action: 'complete',\n",
              "      }\n",
              "    };\n",
              "  }\n",
              "\n",
              "  for (const file of files) {\n",
              "    const li = document.createElement('li');\n",
              "    li.append(span(file.name, {fontWeight: 'bold'}));\n",
              "    li.append(span(\n",
              "        `(${file.type || 'n/a'}) - ${file.size} bytes, ` +\n",
              "        `last modified: ${\n",
              "            file.lastModifiedDate ? file.lastModifiedDate.toLocaleDateString() :\n",
              "                                    'n/a'} - `));\n",
              "    const percent = span('0% done');\n",
              "    li.appendChild(percent);\n",
              "\n",
              "    outputElement.appendChild(li);\n",
              "\n",
              "    const fileDataPromise = new Promise((resolve) => {\n",
              "      const reader = new FileReader();\n",
              "      reader.onload = (e) => {\n",
              "        resolve(e.target.result);\n",
              "      };\n",
              "      reader.readAsArrayBuffer(file);\n",
              "    });\n",
              "    // Wait for the data to be ready.\n",
              "    let fileData = yield {\n",
              "      promise: fileDataPromise,\n",
              "      response: {\n",
              "        action: 'continue',\n",
              "      }\n",
              "    };\n",
              "\n",
              "    // Use a chunked sending to avoid message size limits. See b/62115660.\n",
              "    let position = 0;\n",
              "    do {\n",
              "      const length = Math.min(fileData.byteLength - position, MAX_PAYLOAD_SIZE);\n",
              "      const chunk = new Uint8Array(fileData, position, length);\n",
              "      position += length;\n",
              "\n",
              "      const base64 = btoa(String.fromCharCode.apply(null, chunk));\n",
              "      yield {\n",
              "        response: {\n",
              "          action: 'append',\n",
              "          file: file.name,\n",
              "          data: base64,\n",
              "        },\n",
              "      };\n",
              "\n",
              "      let percentDone = fileData.byteLength === 0 ?\n",
              "          100 :\n",
              "          Math.round((position / fileData.byteLength) * 100);\n",
              "      percent.textContent = `${percentDone}% done`;\n",
              "\n",
              "    } while (position < fileData.byteLength);\n",
              "  }\n",
              "\n",
              "  // All done.\n",
              "  yield {\n",
              "    response: {\n",
              "      action: 'complete',\n",
              "    }\n",
              "  };\n",
              "}\n",
              "\n",
              "scope.google = scope.google || {};\n",
              "scope.google.colab = scope.google.colab || {};\n",
              "scope.google.colab._files = {\n",
              "  _uploadFiles,\n",
              "  _uploadFilesContinue,\n",
              "};\n",
              "})(self);\n",
              "</script> "
            ]
          },
          "metadata": {}
        },
        {
          "output_type": "stream",
          "name": "stdout",
          "text": [
            "Saving bestsellers with categories.csv to bestsellers with categories (1).csv\n"
          ]
        }
      ]
    },
    {
      "cell_type": "markdown",
      "source": [
        "2. Виведіть перші 10 рядків (метод head)"
      ],
      "metadata": {
        "id": "ONp47Kho2C4r"
      }
    },
    {
      "cell_type": "code",
      "source": [
        "print(\"Перші 10 рядків:\")\n",
        "print(df.head(10))"
      ],
      "metadata": {
        "colab": {
          "base_uri": "https://localhost:8080/"
        },
        "id": "zI6UHAUf2Cys",
        "outputId": "588ccdb5-a7c3-4ee7-e428-7bde2315b68c"
      },
      "execution_count": 44,
      "outputs": [
        {
          "output_type": "stream",
          "name": "stdout",
          "text": [
            "Перші 10 рядків:\n",
            "                                                name  \\\n",
            "0                      10-Day Green Smoothie Cleanse   \n",
            "1                                  11/22/63: A Novel   \n",
            "2            12 Rules for Life: An Antidote to Chaos   \n",
            "3                             1984 (Signet Classics)   \n",
            "4  5,000 Awesome Facts (About Everything!) (Natio...   \n",
            "5      A Dance with Dragons (A Song of Ice and Fire)   \n",
            "6  A Game of Thrones / A Clash of Kings / A Storm...   \n",
            "7                     A Gentleman in Moscow: A Novel   \n",
            "8      A Higher Loyalty: Truth, Lies, and Leadership   \n",
            "9                          A Man Called Ove: A Novel   \n",
            "\n",
            "                     author  user_rating  reviews  price  year        genre  \n",
            "0                  JJ Smith          4.7    17350      8  2016  Non Fiction  \n",
            "1              Stephen King          4.6     2052     22  2011      Fiction  \n",
            "2        Jordan B. Peterson          4.7    18979     15  2018  Non Fiction  \n",
            "3             George Orwell          4.7    21424      6  2017      Fiction  \n",
            "4  National Geographic Kids          4.8     7665     12  2019  Non Fiction  \n",
            "5       George R. R. Martin          4.4    12643     11  2011      Fiction  \n",
            "6       George R. R. Martin          4.7    19735     30  2014      Fiction  \n",
            "7               Amor Towles          4.7    19699     15  2017      Fiction  \n",
            "8               James Comey          4.7     5983      3  2018  Non Fiction  \n",
            "9           Fredrik Backman          4.6    23848      8  2016      Fiction  \n"
          ]
        }
      ]
    },
    {
      "cell_type": "markdown",
      "source": [
        "3. Виведіть розміри датасету (метод shape) Про скільки книг зберігає дані датасет?"
      ],
      "metadata": {
        "id": "YQ-JFv822CsN"
      }
    },
    {
      "cell_type": "code",
      "source": [
        "print(\"\\nРозмір датасету (рядки, стовпці):\")\n",
        "print(df.shape)"
      ],
      "metadata": {
        "colab": {
          "base_uri": "https://localhost:8080/"
        },
        "id": "GbABC9jK2Clb",
        "outputId": "add8e2f7-9f02-42fa-bd94-d42133513a3a"
      },
      "execution_count": 43,
      "outputs": [
        {
          "output_type": "stream",
          "name": "stdout",
          "text": [
            "\n",
            "Розмір датасету (рядки, стовпці):\n",
            "(550, 7)\n"
          ]
        }
      ]
    },
    {
      "cell_type": "markdown",
      "source": [
        "4. Змініть назви всіх колонок: назва з маленької букви, без пробілів через підкреслення. df.columns = ['name', 'author', 'user_rating', 'reviews', 'price', 'year', 'genre']"
      ],
      "metadata": {
        "id": "RXisaouv2CeJ"
      }
    },
    {
      "cell_type": "code",
      "source": [
        "df.columns = ['name', 'author', 'user_rating', 'reviews', 'price', 'year', 'genre']\n",
        "print(\"\\nНові назви колонок:\")\n",
        "print(df.columns)"
      ],
      "metadata": {
        "colab": {
          "base_uri": "https://localhost:8080/"
        },
        "id": "I2rqhs0A2CO_",
        "outputId": "a014b8d2-e97c-4c4b-e876-d37d3bd816cf"
      },
      "execution_count": 42,
      "outputs": [
        {
          "output_type": "stream",
          "name": "stdout",
          "text": [
            "\n",
            "Нові назви колонок:\n",
            "Index(['name', 'author', 'user_rating', 'reviews', 'price', 'year', 'genre'], dtype='object')\n"
          ]
        }
      ]
    },
    {
      "cell_type": "markdown",
      "source": [
        "5. Вивести кількість пропусків у кожному стовпчику. Чи є в якихось змінних пропуски? (Так / ні)"
      ],
      "metadata": {
        "id": "L3mupKTv2CGd"
      }
    },
    {
      "cell_type": "code",
      "source": [
        "print(\"\\nКількість пропусків у кожному стовпчику:\")\n",
        "print(df.isnull().sum())"
      ],
      "metadata": {
        "colab": {
          "base_uri": "https://localhost:8080/"
        },
        "id": "C3f3RAZ72Bt-",
        "outputId": "2b0f6eb0-f118-4430-d158-06c0f0c1437d"
      },
      "execution_count": 45,
      "outputs": [
        {
          "output_type": "stream",
          "name": "stdout",
          "text": [
            "\n",
            "Кількість пропусків у кожному стовпчику:\n",
            "name           0\n",
            "author         0\n",
            "user_rating    0\n",
            "reviews        0\n",
            "price          0\n",
            "year           0\n",
            "genre          0\n",
            "dtype: int64\n"
          ]
        }
      ]
    },
    {
      "cell_type": "markdown",
      "source": [
        "6. За допомогою методу unique  перевірте. Які є унікальні жанри в стовпці genre. Які є унікальні жанри?"
      ],
      "metadata": {
        "id": "qU4EQx6I2Bj-"
      }
    },
    {
      "cell_type": "code",
      "source": [
        "print(\"\\nУнікальні жанри в стовпці genre:\")\n",
        "print(df['genre'].unique())"
      ],
      "metadata": {
        "colab": {
          "base_uri": "https://localhost:8080/"
        },
        "id": "eGPsyokx2BPx",
        "outputId": "237869b2-bda3-493f-e847-445cbd910d1c"
      },
      "execution_count": 46,
      "outputs": [
        {
          "output_type": "stream",
          "name": "stdout",
          "text": [
            "\n",
            "Завдання 6. Унікальні жанри в стовпці genre:\n",
            "['Non Fiction' 'Fiction']\n"
          ]
        }
      ]
    },
    {
      "cell_type": "markdown",
      "source": [
        "7. Визначте максимальну, мінімальну, медіанну ціну за допомогою методів  max, min, mean, median Максимальна ціна? Мінімальна ціна?Середня ціна? Медіанна ціна?"
      ],
      "metadata": {
        "id": "b90F6dqO3kmu"
      }
    },
    {
      "cell_type": "code",
      "source": [
        "print(\"\\nСтатистика по ціні:\")\n",
        "print(f\"Максимальна ціна: {df['price'].max()}\")\n",
        "print(f\"Мінімальна ціна: {df['price'].min()}\")\n",
        "print(f\"Середня ціна: {df['price'].mean()}\")\n",
        "print(f\"Медіанна ціна: {df['price'].median()}\")"
      ],
      "metadata": {
        "id": "xD4EYLEz3kYX"
      },
      "execution_count": null,
      "outputs": []
    },
    {
      "cell_type": "markdown",
      "source": [
        "8. Виконайте наступні завдання з пошуку і сортування даних\n",
        "\n",
        "Який рейтинг у датасеті найвищий?  \n",
        "\n",
        "Скільки книг мають такий рейтинг?  \n",
        "\n",
        "Яка книга має найбільше відгуків?  \n",
        "\n",
        "З тих книг, що потрапили до Топ-50 у 2010 році, яка книга найдорожча ?\n",
        "\n",
        "Скільки книг жанру Fiction потрапили до Топ-50 у 2012 році  \n",
        "\n",
        "Скільки книг з рейтингом 4.9 потрапило до рейтингу у 2010 та 2011 роках (використовуйте | або метод isin)?  "
      ],
      "metadata": {
        "id": "4wrveL4w3kR2"
      }
    },
    {
      "cell_type": "markdown",
      "source": [
        "Завдання 8.1."
      ],
      "metadata": {
        "id": "ei9m3G6p7JMM"
      }
    },
    {
      "cell_type": "code",
      "source": [
        "max_rating = df['user_rating'].max()\n",
        "print(f\"Найвищий рейтинг: {max_rating}\")"
      ],
      "metadata": {
        "id": "pdNbEfHa7H6J"
      },
      "execution_count": null,
      "outputs": []
    },
    {
      "cell_type": "markdown",
      "source": [
        "Завдання 8.2"
      ],
      "metadata": {
        "id": "JGpx3EoN7H0a"
      }
    },
    {
      "cell_type": "code",
      "source": [
        "print(f\"Кількість книг з таким рейтингом: {df[df['user_rating'] == max_rating].shape[0]}\")\n"
      ],
      "metadata": {
        "id": "Txw-rjtZ7Huc"
      },
      "execution_count": null,
      "outputs": []
    },
    {
      "cell_type": "markdown",
      "source": [
        "Завдання 8.3"
      ],
      "metadata": {
        "id": "0ndv5H5W7Ho9"
      }
    },
    {
      "cell_type": "code",
      "source": [
        "most_reviews = df[df['reviews'] == df['reviews'].max()]\n",
        "print(\"\\nКнига з найбільшою кількістю відгуків:\")\n",
        "print(most_reviews[['name', 'reviews']])\n"
      ],
      "metadata": {
        "colab": {
          "base_uri": "https://localhost:8080/"
        },
        "id": "tTsjG0rh7HjN",
        "outputId": "ab0f60bb-5d75-44b7-d716-fde8a41ea492"
      },
      "execution_count": 48,
      "outputs": [
        {
          "output_type": "stream",
          "name": "stdout",
          "text": [
            "\n",
            "Книга з найбільшою кількістю відгуків:\n",
            "                        name  reviews\n",
            "534  Where the Crawdads Sing    87841\n"
          ]
        }
      ]
    },
    {
      "cell_type": "markdown",
      "source": [
        "Завдання 8.4"
      ],
      "metadata": {
        "id": "Al9sQNR-7Hdw"
      }
    },
    {
      "cell_type": "code",
      "source": [
        "expensive_2010 = df[df['year'] == 2010].sort_values(by='price', ascending=False).head(1)\n",
        "print(\"\\nНайдорожча книга 2010 року:\")\n",
        "print(expensive_2010[['name', 'price']])\n"
      ],
      "metadata": {
        "colab": {
          "base_uri": "https://localhost:8080/"
        },
        "id": "t1Q9pfQr7HXR",
        "outputId": "e137d81b-e74e-4aa6-a2be-72198f1e0cff"
      },
      "execution_count": 51,
      "outputs": [
        {
          "output_type": "stream",
          "name": "stdout",
          "text": [
            "\n",
            "Найдорожча книга 2010 року:\n",
            "                                                  name  price\n",
            "272  Publication Manual of the American Psychologic...     46\n"
          ]
        }
      ]
    },
    {
      "cell_type": "markdown",
      "source": [
        "Завдання 8.5"
      ],
      "metadata": {
        "id": "OuK1FoLp7HRT"
      }
    },
    {
      "cell_type": "code",
      "source": [
        "fiction_2012 = df[(df['genre'] == 'Fiction') & (df['year'] == 2012)]\n",
        "print(f\"\\nКількість книг жанру Fiction у 2012 році: {fiction_2012.shape[0]}\")\n"
      ],
      "metadata": {
        "colab": {
          "base_uri": "https://localhost:8080/"
        },
        "id": "R5_gLfZv7HDv",
        "outputId": "ff1bee98-73cc-41cd-86a2-a5902855a59d"
      },
      "execution_count": 50,
      "outputs": [
        {
          "output_type": "stream",
          "name": "stdout",
          "text": [
            "\n",
            "Кількість книг жанру Fiction у 2012 році: 21\n"
          ]
        }
      ]
    },
    {
      "cell_type": "markdown",
      "source": [
        "Завдання 8.6"
      ],
      "metadata": {
        "id": "ghYf7HyE7G0V"
      }
    },
    {
      "cell_type": "code",
      "source": [
        "high_rating_2010_2011 = df[(df['user_rating'] == 4.9) & (df['year'].isin([2010, 2011]))]\n",
        "print(f\"\\nКількість книг з рейтингом 4.9 у 2010 та 2011 роках: {high_rating_2010_2011.shape[0]}\")"
      ],
      "metadata": {
        "colab": {
          "base_uri": "https://localhost:8080/"
        },
        "id": "Lw2LZ5V67Gpt",
        "outputId": "c1626776-49f8-4b2c-9d7f-6bebd309c9cf"
      },
      "execution_count": 49,
      "outputs": [
        {
          "output_type": "stream",
          "name": "stdout",
          "text": [
            "\n",
            "Кількість книг з рейтингом 4.9 у 2010 та 2011 роках: 1\n"
          ]
        }
      ]
    },
    {
      "cell_type": "markdown",
      "source": [
        "9. Вивести максимальну і  мінімальну ціну для жанру Fiction I NonFiction (за допомогою методів  groupby та agg, для підрахунку мінімальних та максимальних значень використовуйте max та min). Використовуйте тількі потрібні вам стовпці."
      ],
      "metadata": {
        "id": "2259lKy73j7b"
      }
    },
    {
      "cell_type": "code",
      "source": [
        "price_by_genre = df[df['genre'].isin(['Fiction', 'Non Fiction'])].groupby('genre')['price'].agg(['min', 'max'])\n",
        "print(\"\\nЗавдання 9. Мінімальна і максимальна ціна для жанру Fiction та Non Fiction:\")\n",
        "print(price_by_genre)"
      ],
      "metadata": {
        "colab": {
          "base_uri": "https://localhost:8080/"
        },
        "id": "Mj3rgChP3jnX",
        "outputId": "c0b64f7d-b344-4d80-f5e6-4da7a90480fc"
      },
      "execution_count": 52,
      "outputs": [
        {
          "output_type": "stream",
          "name": "stdout",
          "text": [
            "\n",
            "Завдання 9. Мінімальна і максимальна ціна для жанру Fiction та Non Fiction:\n",
            "             min  max\n",
            "genre                \n",
            "Fiction        0   82\n",
            "Non Fiction    0  105\n"
          ]
        }
      ]
    }
  ]
}
