{
  "cells": [
    {
      "cell_type": "markdown",
      "metadata": {
        "id": "xNi3CC9vt0B-"
      },
      "source": [
        "# Лабораторна робота 1. Аналіз даних\n",
        "  [Посилання на GitHub](https://github.com/unIns1de/Homework-from-KSVD/blob/main/Bartosh_hw1_.ipynb)"
      ]
    },
    {
      "cell_type": "markdown",
      "metadata": {
        "id": "8ats1sK9tpUr"
      },
      "source": [
        "1) Створіть одновимірний масив (вектор) з першими 20-ма натуральними числами та виведіть його значення."
      ]
    },
    {
      "cell_type": "code",
      "execution_count": 1,
      "metadata": {
        "colab": {
          "base_uri": "https://localhost:8080/"
        },
        "id": "SsaIeCcauMFm",
        "outputId": "db8f4f37-8a21-4044-a018-599460424b4d"
      },
      "outputs": [
        {
          "data": {
            "text/plain": [
              "array([ 1,  2,  3,  4,  5,  6,  7,  8,  9, 10, 11, 12, 13, 14, 15, 16, 17,\n",
              "       18, 19, 20])"
            ]
          },
          "execution_count": 1,
          "metadata": {},
          "output_type": "execute_result"
        }
      ],
      "source": [
        "import numpy as np\n",
        "vector = np.arange(1, 21)\n",
        "vector"
      ]
    },
    {
      "cell_type": "markdown",
      "metadata": {
        "id": "e0V0K56lty14"
      },
      "source": [
        "2) Створіть двовимірний масив (матрицю) розміром 4x4, заповніть його одиницями та виведіть його значення."
      ]
    },
    {
      "cell_type": "code",
      "execution_count": 2,
      "metadata": {
        "colab": {
          "base_uri": "https://localhost:8080/"
        },
        "id": "mbSFogGYvPev",
        "outputId": "6b6751a0-e6bf-44e7-d1a8-eb792baead58"
      },
      "outputs": [
        {
          "data": {
            "text/plain": [
              "array([[1, 1, 1, 1],\n",
              "       [1, 1, 1, 1],\n",
              "       [1, 1, 1, 1],\n",
              "       [1, 1, 1, 1]])"
            ]
          },
          "execution_count": 2,
          "metadata": {},
          "output_type": "execute_result"
        }
      ],
      "source": [
        "matrix = np.ones((4, 4), dtype=int)\n",
        "matrix"
      ]
    },
    {
      "cell_type": "markdown",
      "metadata": {
        "id": "oZ_hzFJAvI7K"
      },
      "source": [
        "3) Створіть масив розміром 5x5, заповніть його випадковими дійсними числами в діапазоні від -1 до 1 та виведіть його значення."
      ]
    },
    {
      "cell_type": "code",
      "execution_count": 3,
      "metadata": {
        "colab": {
          "base_uri": "https://localhost:8080/"
        },
        "id": "d-U9CUvVvlTm",
        "outputId": "62bc7b3b-1c7b-457c-cd7a-5fcd2abdb6ca"
      },
      "outputs": [
        {
          "data": {
            "text/plain": [
              "array([[-0.11049528, -0.80467054,  0.11008052,  0.31656224,  0.31186132],\n",
              "       [ 0.46066987, -0.33225787, -0.24047012,  0.89939182,  0.36529404],\n",
              "       [-0.55537836,  0.57133381, -0.72769976,  0.36217673,  0.14974005],\n",
              "       [-0.63874351,  0.61173706,  0.17182893, -0.37046697, -0.99111133],\n",
              "       [ 0.23588466, -0.61691186, -0.98479925, -0.64442157, -0.3799733 ]])"
            ]
          },
          "execution_count": 3,
          "metadata": {},
          "output_type": "execute_result"
        }
      ],
      "source": [
        "np.random.uniform(-1, 1, size=(5,5))"
      ]
    },
    {
      "cell_type": "markdown",
      "metadata": {
        "id": "kzJzdsUGvlnk"
      },
      "source": [
        "4) Створіть масив розміром 3x3, заповніть його випадковими дійсними числами в діапазоні від 0 до 1 та виведіть його значення."
      ]
    },
    {
      "cell_type": "code",
      "execution_count": null,
      "metadata": {
        "colab": {
          "base_uri": "https://localhost:8080/"
        },
        "id": "lZiS9V_0vzRM",
        "outputId": "8cf3f0e5-ad46-4b11-e6b9-2bdbcda5b336"
      },
      "outputs": [
        {
          "data": {
            "text/plain": [
              "array([[0.51707863, 0.78949956, 0.95144217],\n",
              "       [0.55429241, 0.0308517 , 0.97312832],\n",
              "       [0.06546446, 0.07823602, 0.83351862]])"
            ]
          },
          "execution_count": 4,
          "metadata": {},
          "output_type": "execute_result"
        }
      ],
      "source": [
        "np.random.uniform(0, 1, size=(3,3))"
      ]
    },
    {
      "cell_type": "markdown",
      "metadata": {
        "id": "78ffPX3Vvzzo"
      },
      "source": [
        "5) Створіть два одновимірних масиви розміром 6, заповніть їх випадковими цілими числами в діапазоні від 1 до 20 та виконайте на них поелементні операції додавання, віднімання та множення."
      ]
    },
    {
      "cell_type": "code",
      "execution_count": 6,
      "metadata": {
        "colab": {
          "base_uri": "https://localhost:8080/"
        },
        "id": "HNoTCQxkwnFX",
        "outputId": "62432f84-52e5-47f7-91d5-0da28f9610d6"
      },
      "outputs": [
        {
          "name": "stdout",
          "output_type": "stream",
          "text": [
            "matrix_1 = [[15 20 14  9 18 16]] \n",
            "b = [[ 8 17 12  6  1  3]]\n",
            "\n",
            "matrix_1 + matrix_2 = [[23 37 26 15 19 19]]\n",
            "matrix_1 - matrix_2 = [[ 7  3  2  3 17 13]]\n",
            "matrix_1 * matrix_2 = [[120 340 168  54  18  48]]\n"
          ]
        }
      ],
      "source": [
        "matrix_1 = np.random.randint(1, 21, size=(1,6))\n",
        "matrix_2 = np.random.randint(1, 21, size=(1,6))\n",
        "\n",
        "print(f\"matrix_1 = {matrix_1} \\nb = {matrix_2}\\n\")\n",
        "print(f\"matrix_1 + matrix_2 = {matrix_1 + matrix_2}\")\n",
        "print(f\"matrix_1 - matrix_2 = {matrix_1 - matrix_2}\")\n",
        "print(f\"matrix_1 * matrix_2 = {matrix_1 * matrix_2}\")"
      ]
    },
    {
      "cell_type": "markdown",
      "metadata": {
        "id": "FfGiAGDownRk"
      },
      "source": [
        "6) Створіть дві матриці розміром 3x2 та 2x4, заповніть їх випадковими цілими числами в діапазоні від 1 до 5 та перемножте їх між собою."
      ]
    },
    {
      "cell_type": "code",
      "execution_count": 18,
      "metadata": {
        "colab": {
          "base_uri": "https://localhost:8080/"
        },
        "id": "39joAKNRxDNX",
        "outputId": "7b01613b-485a-481a-e42d-74b6ad538f67"
      },
      "outputs": [
        {
          "name": "stdout",
          "output_type": "stream",
          "text": [
            "[[4 5]\n",
            " [4 1]\n",
            " [5 2]]\n",
            "[[5 1 1 2]\n",
            " [1 4 5 1]]\n",
            "\n",
            "matrix_1 * matrix_2 = \n",
            "[[25 24 29 13]\n",
            " [21  8  9  9]\n",
            " [27 13 15 12]]\n"
          ]
        }
      ],
      "source": [
        "matrix_1 = np.random.randint(1, 6, size=(3,2))\n",
        "matrix_2 = np.random.randint(1, 6, size=(2,4))\n",
        "\n",
        "print(f\"{matrix_1}\\n\\n{matrix_2}\\n\")\n",
        "\n",
        "print(f\"matrix_1 * matrix_2 = \\n{np.dot(matrix_1, matrix_2)}\")"
      ]
    },
    {
      "cell_type": "markdown",
      "metadata": {
        "id": "Erho8zVexDX5"
      },
      "source": [
        "7) Створіть матрицю розміром 3x3, заповніть її випадковими дійсними числами в діапазоні від 0 до 1 та транспонуйте її."
      ]
    },
    {
      "cell_type": "code",
      "execution_count": 16,
      "metadata": {
        "colab": {
          "base_uri": "https://localhost:8080/"
        },
        "id": "Cq3hQYyGxMav",
        "outputId": "30fdf66b-7298-444f-f9d4-3372ccea1b23"
      },
      "outputs": [
        {
          "name": "stdout",
          "output_type": "stream",
          "text": [
            "[[0.87388549 0.12377514 0.87266821]\n",
            " [0.91433987 0.93092995 0.28301289]\n",
            " [0.77817681 0.13731061 0.9527964 ]]\n",
            "------------------------------------\n",
            "[[0.87388549 0.91433987 0.77817681]\n",
            " [0.12377514 0.93092995 0.13731061]\n",
            " [0.87266821 0.28301289 0.9527964 ]]\n"
          ]
        }
      ],
      "source": [
        "matrix = np.random.uniform(0, 1, size=(3,3))\n",
        "print(matrix)\n",
        "print(\"------------------------------------\")\n",
        "print(matrix.transpose())"
      ]
    },
    {
      "cell_type": "markdown",
      "metadata": {
        "id": "Yo35zHU0xMkb"
      },
      "source": [
        "8) Створіть дві матриці розміром 3x3, заповніть їх випадковими цілими числами в діапазоні від 1 до 10 та знайдіть їхню різницю."
      ]
    },
    {
      "cell_type": "code",
      "execution_count": 17,
      "metadata": {
        "colab": {
          "base_uri": "https://localhost:8080/"
        },
        "id": "nROKYOtSxZvh",
        "outputId": "680e4f98-20d2-4924-b468-89059b584344"
      },
      "outputs": [
        {
          "data": {
            "text/plain": [
              "array([[ 5,  4, -5],\n",
              "       [-3,  4,  3],\n",
              "       [ 3,  2, -3]])"
            ]
          },
          "execution_count": 17,
          "metadata": {},
          "output_type": "execute_result"
        }
      ],
      "source": [
        "matrix_1 = np.random.randint(1, 11, size=(3,3))\n",
        "matrix_2 = np.random.randint(1, 11, size=(3,3))\n",
        "matrix_1 - matrix_2"
      ]
    },
    {
      "cell_type": "markdown",
      "metadata": {
        "id": "kEs7IUIOxZ-C"
      },
      "source": [
        "9) Створіть дві матриці розміром 3x3, заповніть їх випадковими цілими числами в діапазоні від -5 до 5 та знайдіть їх добуток."
      ]
    },
    {
      "cell_type": "code",
      "execution_count": 23,
      "metadata": {
        "colab": {
          "base_uri": "https://localhost:8080/"
        },
        "id": "pnUj6Svmxciq",
        "outputId": "9c5f67f5-c631-4a55-8e72-9828c9c1e97d"
      },
      "outputs": [
        {
          "name": "stdout",
          "output_type": "stream",
          "text": [
            "[[-2 -4  3]\n",
            " [-4 -3 -1]\n",
            " [-5  4  3]]\n",
            "-----------------------\n",
            "[[-3 -2 -5]\n",
            " [ 2 -2 -4]\n",
            " [ 0  4  0]]\n"
          ]
        },
        {
          "data": {
            "text/plain": [
              "array([[-2, 24, 26],\n",
              "       [ 6, 10, 32],\n",
              "       [23, 14,  9]])"
            ]
          },
          "execution_count": 23,
          "metadata": {},
          "output_type": "execute_result"
        }
      ],
      "source": [
        "matrix_1 = np.random.randint(-5, 5, size=(3,3))\n",
        "matrix_2 = np.random.randint(-5, 5, size=(3,3))\n",
        "print(matrix_1)\n",
        "print(\"-----------------------\")\n",
        "print(matrix_2)\n",
        "np.dot(matrix_1, matrix_2)"
      ]
    },
    {
      "cell_type": "markdown",
      "metadata": {
        "id": "-_HxDET3xcrx"
      },
      "source": [
        "10) Створіть матрицю розміром 3x3, заповніть її випадковими дійсними числами в діапазоні від -1 до 1 та знайдіть вектор-стовпчик, що містить суму елементів кожного рядка матриці."
      ]
    },
    {
      "cell_type": "code",
      "execution_count": 27,
      "metadata": {
        "colab": {
          "base_uri": "https://localhost:8080/"
        },
        "id": "lzmztVK0xjOF",
        "outputId": "01fb7c88-6bfb-4111-c32b-9bdae19c9cb5"
      },
      "outputs": [
        {
          "name": "stdout",
          "output_type": "stream",
          "text": [
            "[[ 0.90957824 -0.26558847  0.20863109]\n",
            " [ 0.92744967 -0.24526578  0.8220908 ]\n",
            " [ 0.75129338  0.6772642   0.40535157]]\n",
            "---------------------------------------\n"
          ]
        },
        {
          "data": {
            "text/plain": [
              "array([[2.58832129],\n",
              "       [0.16640995],\n",
              "       [1.43607346]])"
            ]
          },
          "execution_count": 27,
          "metadata": {},
          "output_type": "execute_result"
        }
      ],
      "source": [
        "matrix = np.random.uniform(-1, 1, size=(3,3))\n",
        "print(matrix)\n",
        "print(\"---------------------------------------\")\n",
        "matrix.sum(axis=0).reshape(3, 1)"
      ]
    }
  ],
  "metadata": {
    "colab": {
      "provenance": []
    },
    "kernelspec": {
      "display_name": "Python 3",
      "name": "python3"
    },
    "language_info": {
      "codemirror_mode": {
        "name": "ipython",
        "version": 3
      },
      "file_extension": ".py",
      "mimetype": "text/x-python",
      "name": "python",
      "nbconvert_exporter": "python",
      "pygments_lexer": "ipython3",
      "version": "3.9.6"
    }
  },
  "nbformat": 4,
  "nbformat_minor": 0
}
