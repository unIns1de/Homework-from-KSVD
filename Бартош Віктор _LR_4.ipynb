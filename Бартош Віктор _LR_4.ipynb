{
  "nbformat": 4,
  "nbformat_minor": 0,
  "metadata": {
    "colab": {
      "provenance": []
    },
    "kernelspec": {
      "name": "python3",
      "display_name": "Python 3"
    },
    "language_info": {
      "name": "python"
    }
  },
  "cells": [
    {
      "cell_type": "markdown",
      "source": [
        "Лабораторна робота 4. Глибокий аналіз і візуалізація дани\n",
        "\n",
        "[Посилання на GitHub](https://github.com/unIns1de/Homework-from-KSVD)\n",
        "\n",
        "Був присутній на парі"
      ],
      "metadata": {
        "id": "xJRwlIb5rLMJ"
      }
    },
    {
      "cell_type": "code",
      "execution_count": 1,
      "metadata": {
        "id": "FNKDQPSRqOwR"
      },
      "outputs": [],
      "source": [
        "from google.colab import files\n",
        "import pandas as pd\n",
        "import numpy as np\n",
        "import matplotlib.pyplot as plt\n",
        "import seaborn as sns\n",
        ""
      ]
    },
    {
      "cell_type": "markdown",
      "source": [
        "1. Загрузити датасет, що містить інформацію про відвідуваність музеїв в різні роки."
      ],
      "metadata": {
        "id": "_6F_fJqHrKNr"
      }
    },
    {
      "cell_type": "code",
      "source": [
        "df = uploaded = files.upload()\n",
        "df = pd.read_csv('Museum_Visitors.csv')"
      ],
      "metadata": {
        "colab": {
          "base_uri": "https://localhost:8080/",
          "height": 74
        },
        "id": "CZr66Rdft_Qg",
        "outputId": "98d26ad8-6988-44dd-bf39-7210ef028146"
      },
      "execution_count": 6,
      "outputs": [
        {
          "output_type": "display_data",
          "data": {
            "text/plain": [
              "<IPython.core.display.HTML object>"
            ],
            "text/html": [
              "\n",
              "     <input type=\"file\" id=\"files-51872e1d-e945-4d77-8d81-2f0c48de7148\" name=\"files[]\" multiple disabled\n",
              "        style=\"border:none\" />\n",
              "     <output id=\"result-51872e1d-e945-4d77-8d81-2f0c48de7148\">\n",
              "      Upload widget is only available when the cell has been executed in the\n",
              "      current browser session. Please rerun this cell to enable.\n",
              "      </output>\n",
              "      <script>// Copyright 2017 Google LLC\n",
              "//\n",
              "// Licensed under the Apache License, Version 2.0 (the \"License\");\n",
              "// you may not use this file except in compliance with the License.\n",
              "// You may obtain a copy of the License at\n",
              "//\n",
              "//      http://www.apache.org/licenses/LICENSE-2.0\n",
              "//\n",
              "// Unless required by applicable law or agreed to in writing, software\n",
              "// distributed under the License is distributed on an \"AS IS\" BASIS,\n",
              "// WITHOUT WARRANTIES OR CONDITIONS OF ANY KIND, either express or implied.\n",
              "// See the License for the specific language governing permissions and\n",
              "// limitations under the License.\n",
              "\n",
              "/**\n",
              " * @fileoverview Helpers for google.colab Python module.\n",
              " */\n",
              "(function(scope) {\n",
              "function span(text, styleAttributes = {}) {\n",
              "  const element = document.createElement('span');\n",
              "  element.textContent = text;\n",
              "  for (const key of Object.keys(styleAttributes)) {\n",
              "    element.style[key] = styleAttributes[key];\n",
              "  }\n",
              "  return element;\n",
              "}\n",
              "\n",
              "// Max number of bytes which will be uploaded at a time.\n",
              "const MAX_PAYLOAD_SIZE = 100 * 1024;\n",
              "\n",
              "function _uploadFiles(inputId, outputId) {\n",
              "  const steps = uploadFilesStep(inputId, outputId);\n",
              "  const outputElement = document.getElementById(outputId);\n",
              "  // Cache steps on the outputElement to make it available for the next call\n",
              "  // to uploadFilesContinue from Python.\n",
              "  outputElement.steps = steps;\n",
              "\n",
              "  return _uploadFilesContinue(outputId);\n",
              "}\n",
              "\n",
              "// This is roughly an async generator (not supported in the browser yet),\n",
              "// where there are multiple asynchronous steps and the Python side is going\n",
              "// to poll for completion of each step.\n",
              "// This uses a Promise to block the python side on completion of each step,\n",
              "// then passes the result of the previous step as the input to the next step.\n",
              "function _uploadFilesContinue(outputId) {\n",
              "  const outputElement = document.getElementById(outputId);\n",
              "  const steps = outputElement.steps;\n",
              "\n",
              "  const next = steps.next(outputElement.lastPromiseValue);\n",
              "  return Promise.resolve(next.value.promise).then((value) => {\n",
              "    // Cache the last promise value to make it available to the next\n",
              "    // step of the generator.\n",
              "    outputElement.lastPromiseValue = value;\n",
              "    return next.value.response;\n",
              "  });\n",
              "}\n",
              "\n",
              "/**\n",
              " * Generator function which is called between each async step of the upload\n",
              " * process.\n",
              " * @param {string} inputId Element ID of the input file picker element.\n",
              " * @param {string} outputId Element ID of the output display.\n",
              " * @return {!Iterable<!Object>} Iterable of next steps.\n",
              " */\n",
              "function* uploadFilesStep(inputId, outputId) {\n",
              "  const inputElement = document.getElementById(inputId);\n",
              "  inputElement.disabled = false;\n",
              "\n",
              "  const outputElement = document.getElementById(outputId);\n",
              "  outputElement.innerHTML = '';\n",
              "\n",
              "  const pickedPromise = new Promise((resolve) => {\n",
              "    inputElement.addEventListener('change', (e) => {\n",
              "      resolve(e.target.files);\n",
              "    });\n",
              "  });\n",
              "\n",
              "  const cancel = document.createElement('button');\n",
              "  inputElement.parentElement.appendChild(cancel);\n",
              "  cancel.textContent = 'Cancel upload';\n",
              "  const cancelPromise = new Promise((resolve) => {\n",
              "    cancel.onclick = () => {\n",
              "      resolve(null);\n",
              "    };\n",
              "  });\n",
              "\n",
              "  // Wait for the user to pick the files.\n",
              "  const files = yield {\n",
              "    promise: Promise.race([pickedPromise, cancelPromise]),\n",
              "    response: {\n",
              "      action: 'starting',\n",
              "    }\n",
              "  };\n",
              "\n",
              "  cancel.remove();\n",
              "\n",
              "  // Disable the input element since further picks are not allowed.\n",
              "  inputElement.disabled = true;\n",
              "\n",
              "  if (!files) {\n",
              "    return {\n",
              "      response: {\n",
              "        action: 'complete',\n",
              "      }\n",
              "    };\n",
              "  }\n",
              "\n",
              "  for (const file of files) {\n",
              "    const li = document.createElement('li');\n",
              "    li.append(span(file.name, {fontWeight: 'bold'}));\n",
              "    li.append(span(\n",
              "        `(${file.type || 'n/a'}) - ${file.size} bytes, ` +\n",
              "        `last modified: ${\n",
              "            file.lastModifiedDate ? file.lastModifiedDate.toLocaleDateString() :\n",
              "                                    'n/a'} - `));\n",
              "    const percent = span('0% done');\n",
              "    li.appendChild(percent);\n",
              "\n",
              "    outputElement.appendChild(li);\n",
              "\n",
              "    const fileDataPromise = new Promise((resolve) => {\n",
              "      const reader = new FileReader();\n",
              "      reader.onload = (e) => {\n",
              "        resolve(e.target.result);\n",
              "      };\n",
              "      reader.readAsArrayBuffer(file);\n",
              "    });\n",
              "    // Wait for the data to be ready.\n",
              "    let fileData = yield {\n",
              "      promise: fileDataPromise,\n",
              "      response: {\n",
              "        action: 'continue',\n",
              "      }\n",
              "    };\n",
              "\n",
              "    // Use a chunked sending to avoid message size limits. See b/62115660.\n",
              "    let position = 0;\n",
              "    do {\n",
              "      const length = Math.min(fileData.byteLength - position, MAX_PAYLOAD_SIZE);\n",
              "      const chunk = new Uint8Array(fileData, position, length);\n",
              "      position += length;\n",
              "\n",
              "      const base64 = btoa(String.fromCharCode.apply(null, chunk));\n",
              "      yield {\n",
              "        response: {\n",
              "          action: 'append',\n",
              "          file: file.name,\n",
              "          data: base64,\n",
              "        },\n",
              "      };\n",
              "\n",
              "      let percentDone = fileData.byteLength === 0 ?\n",
              "          100 :\n",
              "          Math.round((position / fileData.byteLength) * 100);\n",
              "      percent.textContent = `${percentDone}% done`;\n",
              "\n",
              "    } while (position < fileData.byteLength);\n",
              "  }\n",
              "\n",
              "  // All done.\n",
              "  yield {\n",
              "    response: {\n",
              "      action: 'complete',\n",
              "    }\n",
              "  };\n",
              "}\n",
              "\n",
              "scope.google = scope.google || {};\n",
              "scope.google.colab = scope.google.colab || {};\n",
              "scope.google.colab._files = {\n",
              "  _uploadFiles,\n",
              "  _uploadFilesContinue,\n",
              "};\n",
              "})(self);\n",
              "</script> "
            ]
          },
          "metadata": {}
        },
        {
          "output_type": "stream",
          "name": "stdout",
          "text": [
            "Saving Museum_Visitors.csv to Museum_Visitors (2).csv\n"
          ]
        }
      ]
    },
    {
      "cell_type": "code",
      "source": [
        "df.head()\n"
      ],
      "metadata": {
        "colab": {
          "base_uri": "https://localhost:8080/",
          "height": 345
        },
        "id": "N9VrEMW8qRoY",
        "outputId": "84f44909-55df-4324-efcb-f90c7ccae934"
      },
      "execution_count": 15,
      "outputs": [
        {
          "output_type": "execute_result",
          "data": {
            "text/plain": [
              "                    Month  America Tropical Interpretive Center  Avila Adobe  \\\n",
              "0  01/01/2014 12:00:00 AM                                  6602        24778   \n",
              "1  02/01/2014 12:00:00 AM                                  5029        18976   \n",
              "2  03/01/2014 12:00:00 AM                                  8129        25231   \n",
              "3  04/01/2014 12:00:00 AM                                  2824        26989   \n",
              "4  05/01/2014 12:00:00 AM                                 10694        36883   \n",
              "\n",
              "   Chinese American Museum  Gateway to Nature Center  Firehouse Museum  \\\n",
              "0                     1581                       NaN              4486   \n",
              "1                     1785                       NaN              4172   \n",
              "2                     3229                       NaN              7082   \n",
              "3                     2129                       NaN              6756   \n",
              "4                     3676                       NaN             10858   \n",
              "\n",
              "   Hellman Quon  IAMLA  Pico House   Visitor Center/ El Tranquilo Gallery  \\\n",
              "0           0.0    NaN       2204.0                                2961.0   \n",
              "1           0.0    NaN       1330.0                                2276.0   \n",
              "2          70.0    NaN       4320.0                                3116.0   \n",
              "3         250.0    NaN       3277.0                                2808.0   \n",
              "4         135.0    NaN       4122.0                                3987.0   \n",
              "\n",
              "   Museum of Social Justice  Biscailuz Gallery/ PK Outdoor Exhibit  \n",
              "0                       NaN                                    NaN  \n",
              "1                       NaN                                    NaN  \n",
              "2                       NaN                                    NaN  \n",
              "3                       NaN                                    NaN  \n",
              "4                       NaN                                    NaN  "
            ],
            "text/html": [
              "\n",
              "  <div id=\"df-06f618f1-f9f9-44b0-a52c-46519abdea7e\" class=\"colab-df-container\">\n",
              "    <div>\n",
              "<style scoped>\n",
              "    .dataframe tbody tr th:only-of-type {\n",
              "        vertical-align: middle;\n",
              "    }\n",
              "\n",
              "    .dataframe tbody tr th {\n",
              "        vertical-align: top;\n",
              "    }\n",
              "\n",
              "    .dataframe thead th {\n",
              "        text-align: right;\n",
              "    }\n",
              "</style>\n",
              "<table border=\"1\" class=\"dataframe\">\n",
              "  <thead>\n",
              "    <tr style=\"text-align: right;\">\n",
              "      <th></th>\n",
              "      <th>Month</th>\n",
              "      <th>America Tropical Interpretive Center</th>\n",
              "      <th>Avila Adobe</th>\n",
              "      <th>Chinese American Museum</th>\n",
              "      <th>Gateway to Nature Center</th>\n",
              "      <th>Firehouse Museum</th>\n",
              "      <th>Hellman Quon</th>\n",
              "      <th>IAMLA</th>\n",
              "      <th>Pico House</th>\n",
              "      <th>Visitor Center/ El Tranquilo Gallery</th>\n",
              "      <th>Museum of Social Justice</th>\n",
              "      <th>Biscailuz Gallery/ PK Outdoor Exhibit</th>\n",
              "    </tr>\n",
              "  </thead>\n",
              "  <tbody>\n",
              "    <tr>\n",
              "      <th>0</th>\n",
              "      <td>01/01/2014 12:00:00 AM</td>\n",
              "      <td>6602</td>\n",
              "      <td>24778</td>\n",
              "      <td>1581</td>\n",
              "      <td>NaN</td>\n",
              "      <td>4486</td>\n",
              "      <td>0.0</td>\n",
              "      <td>NaN</td>\n",
              "      <td>2204.0</td>\n",
              "      <td>2961.0</td>\n",
              "      <td>NaN</td>\n",
              "      <td>NaN</td>\n",
              "    </tr>\n",
              "    <tr>\n",
              "      <th>1</th>\n",
              "      <td>02/01/2014 12:00:00 AM</td>\n",
              "      <td>5029</td>\n",
              "      <td>18976</td>\n",
              "      <td>1785</td>\n",
              "      <td>NaN</td>\n",
              "      <td>4172</td>\n",
              "      <td>0.0</td>\n",
              "      <td>NaN</td>\n",
              "      <td>1330.0</td>\n",
              "      <td>2276.0</td>\n",
              "      <td>NaN</td>\n",
              "      <td>NaN</td>\n",
              "    </tr>\n",
              "    <tr>\n",
              "      <th>2</th>\n",
              "      <td>03/01/2014 12:00:00 AM</td>\n",
              "      <td>8129</td>\n",
              "      <td>25231</td>\n",
              "      <td>3229</td>\n",
              "      <td>NaN</td>\n",
              "      <td>7082</td>\n",
              "      <td>70.0</td>\n",
              "      <td>NaN</td>\n",
              "      <td>4320.0</td>\n",
              "      <td>3116.0</td>\n",
              "      <td>NaN</td>\n",
              "      <td>NaN</td>\n",
              "    </tr>\n",
              "    <tr>\n",
              "      <th>3</th>\n",
              "      <td>04/01/2014 12:00:00 AM</td>\n",
              "      <td>2824</td>\n",
              "      <td>26989</td>\n",
              "      <td>2129</td>\n",
              "      <td>NaN</td>\n",
              "      <td>6756</td>\n",
              "      <td>250.0</td>\n",
              "      <td>NaN</td>\n",
              "      <td>3277.0</td>\n",
              "      <td>2808.0</td>\n",
              "      <td>NaN</td>\n",
              "      <td>NaN</td>\n",
              "    </tr>\n",
              "    <tr>\n",
              "      <th>4</th>\n",
              "      <td>05/01/2014 12:00:00 AM</td>\n",
              "      <td>10694</td>\n",
              "      <td>36883</td>\n",
              "      <td>3676</td>\n",
              "      <td>NaN</td>\n",
              "      <td>10858</td>\n",
              "      <td>135.0</td>\n",
              "      <td>NaN</td>\n",
              "      <td>4122.0</td>\n",
              "      <td>3987.0</td>\n",
              "      <td>NaN</td>\n",
              "      <td>NaN</td>\n",
              "    </tr>\n",
              "  </tbody>\n",
              "</table>\n",
              "</div>\n",
              "    <div class=\"colab-df-buttons\">\n",
              "\n",
              "  <div class=\"colab-df-container\">\n",
              "    <button class=\"colab-df-convert\" onclick=\"convertToInteractive('df-06f618f1-f9f9-44b0-a52c-46519abdea7e')\"\n",
              "            title=\"Convert this dataframe to an interactive table.\"\n",
              "            style=\"display:none;\">\n",
              "\n",
              "  <svg xmlns=\"http://www.w3.org/2000/svg\" height=\"24px\" viewBox=\"0 -960 960 960\">\n",
              "    <path d=\"M120-120v-720h720v720H120Zm60-500h600v-160H180v160Zm220 220h160v-160H400v160Zm0 220h160v-160H400v160ZM180-400h160v-160H180v160Zm440 0h160v-160H620v160ZM180-180h160v-160H180v160Zm440 0h160v-160H620v160Z\"/>\n",
              "  </svg>\n",
              "    </button>\n",
              "\n",
              "  <style>\n",
              "    .colab-df-container {\n",
              "      display:flex;\n",
              "      gap: 12px;\n",
              "    }\n",
              "\n",
              "    .colab-df-convert {\n",
              "      background-color: #E8F0FE;\n",
              "      border: none;\n",
              "      border-radius: 50%;\n",
              "      cursor: pointer;\n",
              "      display: none;\n",
              "      fill: #1967D2;\n",
              "      height: 32px;\n",
              "      padding: 0 0 0 0;\n",
              "      width: 32px;\n",
              "    }\n",
              "\n",
              "    .colab-df-convert:hover {\n",
              "      background-color: #E2EBFA;\n",
              "      box-shadow: 0px 1px 2px rgba(60, 64, 67, 0.3), 0px 1px 3px 1px rgba(60, 64, 67, 0.15);\n",
              "      fill: #174EA6;\n",
              "    }\n",
              "\n",
              "    .colab-df-buttons div {\n",
              "      margin-bottom: 4px;\n",
              "    }\n",
              "\n",
              "    [theme=dark] .colab-df-convert {\n",
              "      background-color: #3B4455;\n",
              "      fill: #D2E3FC;\n",
              "    }\n",
              "\n",
              "    [theme=dark] .colab-df-convert:hover {\n",
              "      background-color: #434B5C;\n",
              "      box-shadow: 0px 1px 3px 1px rgba(0, 0, 0, 0.15);\n",
              "      filter: drop-shadow(0px 1px 2px rgba(0, 0, 0, 0.3));\n",
              "      fill: #FFFFFF;\n",
              "    }\n",
              "  </style>\n",
              "\n",
              "    <script>\n",
              "      const buttonEl =\n",
              "        document.querySelector('#df-06f618f1-f9f9-44b0-a52c-46519abdea7e button.colab-df-convert');\n",
              "      buttonEl.style.display =\n",
              "        google.colab.kernel.accessAllowed ? 'block' : 'none';\n",
              "\n",
              "      async function convertToInteractive(key) {\n",
              "        const element = document.querySelector('#df-06f618f1-f9f9-44b0-a52c-46519abdea7e');\n",
              "        const dataTable =\n",
              "          await google.colab.kernel.invokeFunction('convertToInteractive',\n",
              "                                                    [key], {});\n",
              "        if (!dataTable) return;\n",
              "\n",
              "        const docLinkHtml = 'Like what you see? Visit the ' +\n",
              "          '<a target=\"_blank\" href=https://colab.research.google.com/notebooks/data_table.ipynb>data table notebook</a>'\n",
              "          + ' to learn more about interactive tables.';\n",
              "        element.innerHTML = '';\n",
              "        dataTable['output_type'] = 'display_data';\n",
              "        await google.colab.output.renderOutput(dataTable, element);\n",
              "        const docLink = document.createElement('div');\n",
              "        docLink.innerHTML = docLinkHtml;\n",
              "        element.appendChild(docLink);\n",
              "      }\n",
              "    </script>\n",
              "  </div>\n",
              "\n",
              "\n",
              "<div id=\"df-9cf9e49e-a211-4965-85f9-7470c1fa53b4\">\n",
              "  <button class=\"colab-df-quickchart\" onclick=\"quickchart('df-9cf9e49e-a211-4965-85f9-7470c1fa53b4')\"\n",
              "            title=\"Suggest charts\"\n",
              "            style=\"display:none;\">\n",
              "\n",
              "<svg xmlns=\"http://www.w3.org/2000/svg\" height=\"24px\"viewBox=\"0 0 24 24\"\n",
              "     width=\"24px\">\n",
              "    <g>\n",
              "        <path d=\"M19 3H5c-1.1 0-2 .9-2 2v14c0 1.1.9 2 2 2h14c1.1 0 2-.9 2-2V5c0-1.1-.9-2-2-2zM9 17H7v-7h2v7zm4 0h-2V7h2v10zm4 0h-2v-4h2v4z\"/>\n",
              "    </g>\n",
              "</svg>\n",
              "  </button>\n",
              "\n",
              "<style>\n",
              "  .colab-df-quickchart {\n",
              "      --bg-color: #E8F0FE;\n",
              "      --fill-color: #1967D2;\n",
              "      --hover-bg-color: #E2EBFA;\n",
              "      --hover-fill-color: #174EA6;\n",
              "      --disabled-fill-color: #AAA;\n",
              "      --disabled-bg-color: #DDD;\n",
              "  }\n",
              "\n",
              "  [theme=dark] .colab-df-quickchart {\n",
              "      --bg-color: #3B4455;\n",
              "      --fill-color: #D2E3FC;\n",
              "      --hover-bg-color: #434B5C;\n",
              "      --hover-fill-color: #FFFFFF;\n",
              "      --disabled-bg-color: #3B4455;\n",
              "      --disabled-fill-color: #666;\n",
              "  }\n",
              "\n",
              "  .colab-df-quickchart {\n",
              "    background-color: var(--bg-color);\n",
              "    border: none;\n",
              "    border-radius: 50%;\n",
              "    cursor: pointer;\n",
              "    display: none;\n",
              "    fill: var(--fill-color);\n",
              "    height: 32px;\n",
              "    padding: 0;\n",
              "    width: 32px;\n",
              "  }\n",
              "\n",
              "  .colab-df-quickchart:hover {\n",
              "    background-color: var(--hover-bg-color);\n",
              "    box-shadow: 0 1px 2px rgba(60, 64, 67, 0.3), 0 1px 3px 1px rgba(60, 64, 67, 0.15);\n",
              "    fill: var(--button-hover-fill-color);\n",
              "  }\n",
              "\n",
              "  .colab-df-quickchart-complete:disabled,\n",
              "  .colab-df-quickchart-complete:disabled:hover {\n",
              "    background-color: var(--disabled-bg-color);\n",
              "    fill: var(--disabled-fill-color);\n",
              "    box-shadow: none;\n",
              "  }\n",
              "\n",
              "  .colab-df-spinner {\n",
              "    border: 2px solid var(--fill-color);\n",
              "    border-color: transparent;\n",
              "    border-bottom-color: var(--fill-color);\n",
              "    animation:\n",
              "      spin 1s steps(1) infinite;\n",
              "  }\n",
              "\n",
              "  @keyframes spin {\n",
              "    0% {\n",
              "      border-color: transparent;\n",
              "      border-bottom-color: var(--fill-color);\n",
              "      border-left-color: var(--fill-color);\n",
              "    }\n",
              "    20% {\n",
              "      border-color: transparent;\n",
              "      border-left-color: var(--fill-color);\n",
              "      border-top-color: var(--fill-color);\n",
              "    }\n",
              "    30% {\n",
              "      border-color: transparent;\n",
              "      border-left-color: var(--fill-color);\n",
              "      border-top-color: var(--fill-color);\n",
              "      border-right-color: var(--fill-color);\n",
              "    }\n",
              "    40% {\n",
              "      border-color: transparent;\n",
              "      border-right-color: var(--fill-color);\n",
              "      border-top-color: var(--fill-color);\n",
              "    }\n",
              "    60% {\n",
              "      border-color: transparent;\n",
              "      border-right-color: var(--fill-color);\n",
              "    }\n",
              "    80% {\n",
              "      border-color: transparent;\n",
              "      border-right-color: var(--fill-color);\n",
              "      border-bottom-color: var(--fill-color);\n",
              "    }\n",
              "    90% {\n",
              "      border-color: transparent;\n",
              "      border-bottom-color: var(--fill-color);\n",
              "    }\n",
              "  }\n",
              "</style>\n",
              "\n",
              "  <script>\n",
              "    async function quickchart(key) {\n",
              "      const quickchartButtonEl =\n",
              "        document.querySelector('#' + key + ' button');\n",
              "      quickchartButtonEl.disabled = true;  // To prevent multiple clicks.\n",
              "      quickchartButtonEl.classList.add('colab-df-spinner');\n",
              "      try {\n",
              "        const charts = await google.colab.kernel.invokeFunction(\n",
              "            'suggestCharts', [key], {});\n",
              "      } catch (error) {\n",
              "        console.error('Error during call to suggestCharts:', error);\n",
              "      }\n",
              "      quickchartButtonEl.classList.remove('colab-df-spinner');\n",
              "      quickchartButtonEl.classList.add('colab-df-quickchart-complete');\n",
              "    }\n",
              "    (() => {\n",
              "      let quickchartButtonEl =\n",
              "        document.querySelector('#df-9cf9e49e-a211-4965-85f9-7470c1fa53b4 button');\n",
              "      quickchartButtonEl.style.display =\n",
              "        google.colab.kernel.accessAllowed ? 'block' : 'none';\n",
              "    })();\n",
              "  </script>\n",
              "</div>\n",
              "    </div>\n",
              "  </div>\n"
            ],
            "application/vnd.google.colaboratory.intrinsic+json": {
              "type": "dataframe",
              "variable_name": "df",
              "summary": "{\n  \"name\": \"df\",\n  \"rows\": 85,\n  \"fields\": [\n    {\n      \"column\": \"Month\",\n      \"properties\": {\n        \"dtype\": \"object\",\n        \"num_unique_values\": 85,\n        \"samples\": [\n          \"07/01/2020 12:00:00 AM\",\n          \"01/01/2014 12:00:00 AM\",\n          \"09/01/2019 12:00:00 AM\"\n        ],\n        \"semantic_type\": \"\",\n        \"description\": \"\"\n      }\n    },\n    {\n      \"column\": \"America Tropical Interpretive Center\",\n      \"properties\": {\n        \"dtype\": \"number\",\n        \"std\": 3277,\n        \"min\": 0,\n        \"max\": 13490,\n        \"num_unique_values\": 76,\n        \"samples\": [\n          10694,\n          4493,\n          9773\n        ],\n        \"semantic_type\": \"\",\n        \"description\": \"\"\n      }\n    },\n    {\n      \"column\": \"Avila Adobe\",\n      \"properties\": {\n        \"dtype\": \"number\",\n        \"std\": 9495,\n        \"min\": 0,\n        \"max\": 41242,\n        \"num_unique_values\": 76,\n        \"samples\": [\n          36883,\n          14035,\n          25691\n        ],\n        \"semantic_type\": \"\",\n        \"description\": \"\"\n      }\n    },\n    {\n      \"column\": \"Chinese American Museum\",\n      \"properties\": {\n        \"dtype\": \"number\",\n        \"std\": 1360,\n        \"min\": 0,\n        \"max\": 7702,\n        \"num_unique_values\": 75,\n        \"samples\": [\n          3676,\n          4570,\n          2404\n        ],\n        \"semantic_type\": \"\",\n        \"description\": \"\"\n      }\n    },\n    {\n      \"column\": \"Gateway to Nature Center\",\n      \"properties\": {\n        \"dtype\": \"number\",\n        \"std\": 1212.1375347813491,\n        \"min\": 0.0,\n        \"max\": 4227.0,\n        \"num_unique_values\": 23,\n        \"samples\": [\n          1338.0,\n          1316.0,\n          2581.0\n        ],\n        \"semantic_type\": \"\",\n        \"description\": \"\"\n      }\n    },\n    {\n      \"column\": \"Firehouse Museum\",\n      \"properties\": {\n        \"dtype\": \"number\",\n        \"std\": 6591,\n        \"min\": 0,\n        \"max\": 61192,\n        \"num_unique_values\": 76,\n        \"samples\": [\n          10858,\n          3491,\n          4189\n        ],\n        \"semantic_type\": \"\",\n        \"description\": \"\"\n      }\n    },\n    {\n      \"column\": \"Hellman Quon\",\n      \"properties\": {\n        \"dtype\": \"number\",\n        \"std\": 447.04310582038784,\n        \"min\": 0.0,\n        \"max\": 2000.0,\n        \"num_unique_values\": 22,\n        \"samples\": [\n          0.0,\n          2000.0,\n          410.0\n        ],\n        \"semantic_type\": \"\",\n        \"description\": \"\"\n      }\n    },\n    {\n      \"column\": \"IAMLA\",\n      \"properties\": {\n        \"dtype\": \"number\",\n        \"std\": 507.19768081230785,\n        \"min\": 0.0,\n        \"max\": 1883.0,\n        \"num_unique_values\": 43,\n        \"samples\": [\n          1181.0,\n          1031.0,\n          1159.0\n        ],\n        \"semantic_type\": \"\",\n        \"description\": \"\"\n      }\n    },\n    {\n      \"column\": \"Pico House \",\n      \"properties\": {\n        \"dtype\": \"number\",\n        \"std\": 1832.5197668392552,\n        \"min\": 0.0,\n        \"max\": 9312.0,\n        \"num_unique_values\": 68,\n        \"samples\": [\n          1645.0,\n          5042.0,\n          4122.0\n        ],\n        \"semantic_type\": \"\",\n        \"description\": \"\"\n      }\n    },\n    {\n      \"column\": \"Visitor Center/ El Tranquilo Gallery\",\n      \"properties\": {\n        \"dtype\": \"number\",\n        \"std\": 2055.5308714870625,\n        \"min\": 0.0,\n        \"max\": 13750.0,\n        \"num_unique_values\": 40,\n        \"samples\": [\n          3367.0,\n          3323.0,\n          3606.0\n        ],\n        \"semantic_type\": \"\",\n        \"description\": \"\"\n      }\n    },\n    {\n      \"column\": \"Museum of Social Justice\",\n      \"properties\": {\n        \"dtype\": \"number\",\n        \"std\": 1954.8454966866095,\n        \"min\": 0.0,\n        \"max\": 10740.0,\n        \"num_unique_values\": 27,\n        \"samples\": [\n          2670.0,\n          2819.0,\n          3055.0\n        ],\n        \"semantic_type\": \"\",\n        \"description\": \"\"\n      }\n    },\n    {\n      \"column\": \"Biscailuz Gallery/ PK Outdoor Exhibit\",\n      \"properties\": {\n        \"dtype\": \"number\",\n        \"std\": 664.8255653843827,\n        \"min\": 0.0,\n        \"max\": 3801.0,\n        \"num_unique_values\": 38,\n        \"samples\": [\n          871.0,\n          3801.0,\n          692.0\n        ],\n        \"semantic_type\": \"\",\n        \"description\": \"\"\n      }\n    }\n  ]\n}"
            }
          },
          "metadata": {},
          "execution_count": 15
        }
      ]
    },
    {
      "cell_type": "markdown",
      "source": [
        "2. Вивести перші 5 рядків датасету."
      ],
      "metadata": {
        "id": "yWLTR-vQuQB-"
      }
    },
    {
      "cell_type": "markdown",
      "source": [
        "3. Провести попередній аналіз даних (визначити розмір датасету, тип даних, кількість пропусків)."
      ],
      "metadata": {
        "id": "Aigr-A-UqRi5"
      }
    },
    {
      "cell_type": "code",
      "source": [
        "print(\"Розмір датасету:\", df.shape)\n",
        "print(\"\\nТипи даних:\\n\", df.dtypes)\n",
        "print(\"\\nКількість пропусків:\\n\", df.isnull().sum())"
      ],
      "metadata": {
        "colab": {
          "base_uri": "https://localhost:8080/"
        },
        "id": "rEpdfP9NqRda",
        "outputId": "3ce911db-616c-4988-883d-0b7fecc6bd75"
      },
      "execution_count": 8,
      "outputs": [
        {
          "output_type": "stream",
          "name": "stdout",
          "text": [
            "Розмір датасету: (85, 12)\n",
            "\n",
            "Типи даних:\n",
            " Month                                     object\n",
            "America Tropical Interpretive Center       int64\n",
            "Avila Adobe                                int64\n",
            "Chinese American Museum                    int64\n",
            "Gateway to Nature Center                 float64\n",
            "Firehouse Museum                           int64\n",
            "Hellman Quon                             float64\n",
            "IAMLA                                    float64\n",
            "Pico House                               float64\n",
            "Visitor Center/ El Tranquilo Gallery     float64\n",
            "Museum of Social Justice                 float64\n",
            "Biscailuz Gallery/ PK Outdoor Exhibit    float64\n",
            "dtype: object\n",
            "\n",
            "Кількість пропусків:\n",
            " Month                                     0\n",
            "America Tropical Interpretive Center      0\n",
            "Avila Adobe                               0\n",
            "Chinese American Museum                   0\n",
            "Gateway to Nature Center                 53\n",
            "Firehouse Museum                          0\n",
            "Hellman Quon                             59\n",
            "IAMLA                                    31\n",
            "Pico House                                2\n",
            "Visitor Center/ El Tranquilo Gallery     40\n",
            "Museum of Social Justice                 48\n",
            "Biscailuz Gallery/ PK Outdoor Exhibit    46\n",
            "dtype: int64\n"
          ]
        }
      ]
    },
    {
      "cell_type": "markdown",
      "source": [
        "4. Перевірити наявність дублікатів. Якщо є, видалити їх і вивести розмір таблиці (без дублікатів)."
      ],
      "metadata": {
        "id": "I2JiAL2AqRXs"
      }
    },
    {
      "cell_type": "code",
      "source": [
        "print(\"Кількість дублікатів:\", df.duplicated().sum())\n",
        "df = df.drop_duplicates()\n",
        "print(\"Розмір після видалення дублікатів:\", df.shape)"
      ],
      "metadata": {
        "colab": {
          "base_uri": "https://localhost:8080/"
        },
        "id": "ig77YH2EqRSO",
        "outputId": "fdbdd44e-9cae-4c34-e9f5-8f9fabc995c6"
      },
      "execution_count": 9,
      "outputs": [
        {
          "output_type": "stream",
          "name": "stdout",
          "text": [
            "Кількість дублікатів: 0\n",
            "Розмір після видалення дублікатів: (85, 12)\n"
          ]
        }
      ]
    },
    {
      "cell_type": "markdown",
      "source": [
        "5. Про які роки містить інформацію датасет."
      ],
      "metadata": {
        "id": "2fkVlxyhqRNi"
      }
    },
    {
      "cell_type": "code",
      "source": [
        "df['Month'] = pd.to_datetime(df['Month'])\n",
        "print(\"Роки в датасеті:\", df['Month'].dt.year.min(), \"-\", df['Month'].dt.year.max())"
      ],
      "metadata": {
        "colab": {
          "base_uri": "https://localhost:8080/"
        },
        "id": "6N1Ucz7fqRJG",
        "outputId": "7bc97705-0d47-47d8-ee50-60363842946d"
      },
      "execution_count": 17,
      "outputs": [
        {
          "output_type": "stream",
          "name": "stdout",
          "text": [
            "Роки в датасеті: 2014 - 2021\n"
          ]
        }
      ]
    },
    {
      "cell_type": "markdown",
      "source": [
        "6. Змінити назви столбців. Замінити великі букви на маленьки, пробіли на підкреслення (date, avila_adobe, firehouse_museum,"
      ],
      "metadata": {
        "id": "MPsQgsTmqREr"
      }
    },
    {
      "cell_type": "code",
      "source": [
        "df.columns = df.columns.str.strip().str.lower().str.replace(\" \", \"_\")\n",
        "\n",
        "print(\"\\nНові назви колонок:\")\n",
        "print(df.columns.tolist())"
      ],
      "metadata": {
        "colab": {
          "base_uri": "https://localhost:8080/"
        },
        "id": "sCNtKyvvqQ_N",
        "outputId": "a31d3b96-8651-492a-9dcd-b913d6a54311"
      },
      "execution_count": 21,
      "outputs": [
        {
          "output_type": "stream",
          "name": "stdout",
          "text": [
            "\n",
            "Нові назви колонок:\n",
            "['month', 'america_tropical_interpretive_center', 'avila_adobe', 'chinese_american_museum', 'gateway_to_nature_center', 'firehouse_museum', 'hellman_quon', 'iamla', 'pico_house', 'visitor_center/_el_tranquilo_gallery', 'museum_of_social_justice', 'biscailuz_gallery/_pk_outdoor_exhibit']\n"
          ]
        }
      ]
    },
    {
      "cell_type": "markdown",
      "source": [
        "7. Обчислити середню кількість відвідувачів для кожного музею протягом всього періоду."
      ],
      "metadata": {
        "id": "xtHCmdzXqQ6Q"
      }
    },
    {
      "cell_type": "code",
      "source": [
        "mean_visitors = df.drop(columns='month').mean()\n",
        "print(\"Середня кількість відвідувачів:\\n\", mean_visitors)"
      ],
      "metadata": {
        "colab": {
          "base_uri": "https://localhost:8080/"
        },
        "id": "uCWpkKANqQ0y",
        "outputId": "fe8bf92a-7925-48c7-a1b5-f0b32ca1de5e"
      },
      "execution_count": 23,
      "outputs": [
        {
          "output_type": "stream",
          "name": "stdout",
          "text": [
            "Середня кількість відвідувачів:\n",
            " america_tropical_interpretive_center      5637.694118\n",
            "avila_adobe                              19904.952941\n",
            "chinese_american_museum                   2359.117647\n",
            "gateway_to_nature_center                  1247.375000\n",
            "firehouse_museum                          5286.776471\n",
            "hellman_quon                               353.461538\n",
            "iamla                                      882.611111\n",
            "pico_house                                1329.710843\n",
            "visitor_center/_el_tranquilo_gallery      2634.800000\n",
            "museum_of_social_justice                  2125.972973\n",
            "biscailuz_gallery/_pk_outdoor_exhibit     1088.615385\n",
            "dtype: float64\n"
          ]
        }
      ]
    },
    {
      "cell_type": "markdown",
      "source": [
        "8. Знайти мінімальну та максимальну кількість відвідувачів для кожного музею за 2018 рік"
      ],
      "metadata": {
        "id": "Cyusv3arqQvF"
      }
    },
    {
      "cell_type": "code",
      "source": [
        "df_2018 = df[df['month'].dt.year == 2018]\n",
        "min_2018 = df_2018.min(numeric_only=True)\n",
        "max_2018 = df_2018.max(numeric_only=True)\n",
        "print(\"Мінімальна відвідуваність у 2018:\\n\", min_2018)\n",
        "print(\"Максимальна відвідуваність у 2018:\\n\", max_2018)"
      ],
      "metadata": {
        "colab": {
          "base_uri": "https://localhost:8080/"
        },
        "id": "KQrcYBnbqQpW",
        "outputId": "41124250-bc27-4a73-b3d7-9f8cbd22cd17"
      },
      "execution_count": 24,
      "outputs": [
        {
          "output_type": "stream",
          "name": "stdout",
          "text": [
            "Мінімальна відвідуваність у 2018:\n",
            " america_tropical_interpretive_center      3180.0\n",
            "avila_adobe                              14718.0\n",
            "chinese_american_museum                   2078.0\n",
            "gateway_to_nature_center                     NaN\n",
            "firehouse_museum                          3306.0\n",
            "hellman_quon                                 NaN\n",
            "iamla                                      965.0\n",
            "pico_house                                 185.0\n",
            "visitor_center/_el_tranquilo_gallery         NaN\n",
            "museum_of_social_justice                  2332.0\n",
            "biscailuz_gallery/_pk_outdoor_exhibit      349.0\n",
            "dtype: float64\n",
            "Максимальна відвідуваність у 2018:\n",
            " america_tropical_interpretive_center      5837.0\n",
            "avila_adobe                              25173.0\n",
            "chinese_american_museum                   4960.0\n",
            "gateway_to_nature_center                     NaN\n",
            "firehouse_museum                          8013.0\n",
            "hellman_quon                                 NaN\n",
            "iamla                                     1601.0\n",
            "pico_house                                2140.0\n",
            "visitor_center/_el_tranquilo_gallery         NaN\n",
            "museum_of_social_justice                  3686.0\n",
            "biscailuz_gallery/_pk_outdoor_exhibit     1790.0\n",
            "dtype: float64\n"
          ]
        }
      ]
    },
    {
      "cell_type": "markdown",
      "source": [
        "9. Визначити місяці з найвищою і найнижчою загальною кількістю відвідувачів серед усіх музеїв для 2015 року. Вивести назви місяців (не цифри)."
      ],
      "metadata": {
        "id": "EQ8tIwwHqQjp"
      }
    },
    {
      "cell_type": "code",
      "source": [
        "------------"
      ],
      "metadata": {
        "colab": {
          "base_uri": "https://localhost:8080/",
          "height": 108
        },
        "id": "2ayCIgtNqQbh",
        "outputId": "3bc40092-4d62-411a-f14b-435c7cc272c4"
      },
      "execution_count": 36,
      "outputs": [
        {
          "output_type": "error",
          "ename": "SyntaxError",
          "evalue": "invalid syntax (<ipython-input-36-e57b760c492d>, line 1)",
          "traceback": [
            "\u001b[0;36m  File \u001b[0;32m\"<ipython-input-36-e57b760c492d>\"\u001b[0;36m, line \u001b[0;32m1\u001b[0m\n\u001b[0;31m    ------------\u001b[0m\n\u001b[0m                ^\u001b[0m\n\u001b[0;31mSyntaxError\u001b[0m\u001b[0;31m:\u001b[0m invalid syntax\n"
          ]
        }
      ]
    },
    {
      "cell_type": "markdown",
      "source": [
        "10. Порівняти кількість відвідувачів музею \"Avila Adobe\" у літні і зимові місяці 2018 року"
      ],
      "metadata": {
        "id": "yaTNygoEqQV1"
      }
    },
    {
      "cell_type": "code",
      "source": [
        "summer = [6, 7, 8]\n",
        "winter = [12, 1, 2]\n",
        "avila = 'avila_adobe'\n",
        "\n",
        "summer_avg = df_2018[df_2018['month'].isin(summer)][avila].mean()\n",
        "winter_avg = df_2018[df_2018['month'].isin(winter)][avila].mean()\n",
        "print(f\"Avila Adobe - Літо: {summer_avg}, Зима: {winter_avg}\")"
      ],
      "metadata": {
        "colab": {
          "base_uri": "https://localhost:8080/"
        },
        "id": "uJdh_hfFqQQm",
        "outputId": "6997a2d3-3798-47aa-f14b-7efc31fec7c4"
      },
      "execution_count": 38,
      "outputs": [
        {
          "output_type": "stream",
          "name": "stdout",
          "text": [
            "Avila Adobe - Літо: nan, Зима: nan\n"
          ]
        }
      ]
    },
    {
      "cell_type": "markdown",
      "source": [
        "11. Знайти кореляцію між кількістю відвідувачів в кожному з музеїв  та датами у 2016 році"
      ],
      "metadata": {
        "id": "UkscxEVIqQKm"
      }
    },
    {
      "cell_type": "code",
      "source": [
        "df.corr()"
      ],
      "metadata": {
        "colab": {
          "base_uri": "https://localhost:8080/",
          "height": 446
        },
        "id": "VV-Dr4dCqQEI",
        "outputId": "74770627-3740-40b1-bf72-e76f5887ddd9"
      },
      "execution_count": 41,
      "outputs": [
        {
          "output_type": "execute_result",
          "data": {
            "text/plain": [
              "                                          month  \\\n",
              "month                                  1.000000   \n",
              "america_tropical_interpretive_center  -0.781557   \n",
              "avila_adobe                           -0.738084   \n",
              "chinese_american_museum               -0.315742   \n",
              "gateway_to_nature_center              -0.862489   \n",
              "firehouse_museum                      -0.371774   \n",
              "hellman_quon                           0.123705   \n",
              "iamla                                 -0.427023   \n",
              "pico_house                            -0.478187   \n",
              "visitor_center/_el_tranquilo_gallery  -0.036228   \n",
              "museum_of_social_justice              -0.523854   \n",
              "biscailuz_gallery/_pk_outdoor_exhibit  0.190978   \n",
              "\n",
              "                                       america_tropical_interpretive_center  \\\n",
              "month                                                             -0.781557   \n",
              "america_tropical_interpretive_center                               1.000000   \n",
              "avila_adobe                                                        0.854877   \n",
              "chinese_american_museum                                            0.540915   \n",
              "gateway_to_nature_center                                           0.903600   \n",
              "firehouse_museum                                                   0.279719   \n",
              "hellman_quon                                                      -0.064350   \n",
              "iamla                                                              0.740965   \n",
              "pico_house                                                         0.495974   \n",
              "visitor_center/_el_tranquilo_gallery                               0.184422   \n",
              "museum_of_social_justice                                           0.687420   \n",
              "biscailuz_gallery/_pk_outdoor_exhibit                             -0.141813   \n",
              "\n",
              "                                       avila_adobe  chinese_american_museum  \\\n",
              "month                                    -0.738084                -0.315742   \n",
              "america_tropical_interpretive_center      0.854877                 0.540915   \n",
              "avila_adobe                               1.000000                 0.591643   \n",
              "chinese_american_museum                   0.591643                 1.000000   \n",
              "gateway_to_nature_center                  0.868099                 0.798199   \n",
              "firehouse_museum                          0.415099                 0.164809   \n",
              "hellman_quon                              0.074130                 0.093247   \n",
              "iamla                                     0.815451                 0.728407   \n",
              "pico_house                                0.441115                 0.151055   \n",
              "visitor_center/_el_tranquilo_gallery      0.161775                 0.210557   \n",
              "museum_of_social_justice                  0.611342                 0.610546   \n",
              "biscailuz_gallery/_pk_outdoor_exhibit    -0.199426                -0.073815   \n",
              "\n",
              "                                       gateway_to_nature_center  \\\n",
              "month                                                 -0.862489   \n",
              "america_tropical_interpretive_center                   0.903600   \n",
              "avila_adobe                                            0.868099   \n",
              "chinese_american_museum                                0.798199   \n",
              "gateway_to_nature_center                               1.000000   \n",
              "firehouse_museum                                       0.823914   \n",
              "hellman_quon                                                NaN   \n",
              "iamla                                                  0.631082   \n",
              "pico_house                                             0.211394   \n",
              "visitor_center/_el_tranquilo_gallery                   0.379469   \n",
              "museum_of_social_justice                               0.589042   \n",
              "biscailuz_gallery/_pk_outdoor_exhibit                 -0.171393   \n",
              "\n",
              "                                       firehouse_museum  hellman_quon  \\\n",
              "month                                         -0.371774      0.123705   \n",
              "america_tropical_interpretive_center           0.279719     -0.064350   \n",
              "avila_adobe                                    0.415099      0.074130   \n",
              "chinese_american_museum                        0.164809      0.093247   \n",
              "gateway_to_nature_center                       0.823914           NaN   \n",
              "firehouse_museum                               1.000000      0.405120   \n",
              "hellman_quon                                   0.405120      1.000000   \n",
              "iamla                                          0.828048           NaN   \n",
              "pico_house                                     0.153649      0.235122   \n",
              "visitor_center/_el_tranquilo_gallery          -0.129243      0.122002   \n",
              "museum_of_social_justice                       0.598201           NaN   \n",
              "biscailuz_gallery/_pk_outdoor_exhibit         -0.138686           NaN   \n",
              "\n",
              "                                          iamla  pico_house  \\\n",
              "month                                 -0.427023   -0.478187   \n",
              "america_tropical_interpretive_center   0.740965    0.495974   \n",
              "avila_adobe                            0.815451    0.441115   \n",
              "chinese_american_museum                0.728407    0.151055   \n",
              "gateway_to_nature_center               0.631082    0.211394   \n",
              "firehouse_museum                       0.828048    0.153649   \n",
              "hellman_quon                                NaN    0.235122   \n",
              "iamla                                  1.000000    0.301738   \n",
              "pico_house                             0.301738    1.000000   \n",
              "visitor_center/_el_tranquilo_gallery   0.432899    0.512501   \n",
              "museum_of_social_justice               0.705979    0.286410   \n",
              "biscailuz_gallery/_pk_outdoor_exhibit -0.068401   -0.172590   \n",
              "\n",
              "                                       visitor_center/_el_tranquilo_gallery  \\\n",
              "month                                                             -0.036228   \n",
              "america_tropical_interpretive_center                               0.184422   \n",
              "avila_adobe                                                        0.161775   \n",
              "chinese_american_museum                                            0.210557   \n",
              "gateway_to_nature_center                                           0.379469   \n",
              "firehouse_museum                                                  -0.129243   \n",
              "hellman_quon                                                       0.122002   \n",
              "iamla                                                              0.432899   \n",
              "pico_house                                                         0.512501   \n",
              "visitor_center/_el_tranquilo_gallery                               1.000000   \n",
              "museum_of_social_justice                                                NaN   \n",
              "biscailuz_gallery/_pk_outdoor_exhibit                              0.590257   \n",
              "\n",
              "                                       museum_of_social_justice  \\\n",
              "month                                                 -0.523854   \n",
              "america_tropical_interpretive_center                   0.687420   \n",
              "avila_adobe                                            0.611342   \n",
              "chinese_american_museum                                0.610546   \n",
              "gateway_to_nature_center                               0.589042   \n",
              "firehouse_museum                                       0.598201   \n",
              "hellman_quon                                                NaN   \n",
              "iamla                                                  0.705979   \n",
              "pico_house                                             0.286410   \n",
              "visitor_center/_el_tranquilo_gallery                        NaN   \n",
              "museum_of_social_justice                               1.000000   \n",
              "biscailuz_gallery/_pk_outdoor_exhibit                  0.072147   \n",
              "\n",
              "                                       biscailuz_gallery/_pk_outdoor_exhibit  \n",
              "month                                                               0.190978  \n",
              "america_tropical_interpretive_center                               -0.141813  \n",
              "avila_adobe                                                        -0.199426  \n",
              "chinese_american_museum                                            -0.073815  \n",
              "gateway_to_nature_center                                           -0.171393  \n",
              "firehouse_museum                                                   -0.138686  \n",
              "hellman_quon                                                             NaN  \n",
              "iamla                                                              -0.068401  \n",
              "pico_house                                                         -0.172590  \n",
              "visitor_center/_el_tranquilo_gallery                                0.590257  \n",
              "museum_of_social_justice                                            0.072147  \n",
              "biscailuz_gallery/_pk_outdoor_exhibit                               1.000000  "
            ],
            "text/html": [
              "\n",
              "  <div id=\"df-9d711e3d-4792-4d63-8ad8-7cfdf268b91f\" class=\"colab-df-container\">\n",
              "    <div>\n",
              "<style scoped>\n",
              "    .dataframe tbody tr th:only-of-type {\n",
              "        vertical-align: middle;\n",
              "    }\n",
              "\n",
              "    .dataframe tbody tr th {\n",
              "        vertical-align: top;\n",
              "    }\n",
              "\n",
              "    .dataframe thead th {\n",
              "        text-align: right;\n",
              "    }\n",
              "</style>\n",
              "<table border=\"1\" class=\"dataframe\">\n",
              "  <thead>\n",
              "    <tr style=\"text-align: right;\">\n",
              "      <th></th>\n",
              "      <th>month</th>\n",
              "      <th>america_tropical_interpretive_center</th>\n",
              "      <th>avila_adobe</th>\n",
              "      <th>chinese_american_museum</th>\n",
              "      <th>gateway_to_nature_center</th>\n",
              "      <th>firehouse_museum</th>\n",
              "      <th>hellman_quon</th>\n",
              "      <th>iamla</th>\n",
              "      <th>pico_house</th>\n",
              "      <th>visitor_center/_el_tranquilo_gallery</th>\n",
              "      <th>museum_of_social_justice</th>\n",
              "      <th>biscailuz_gallery/_pk_outdoor_exhibit</th>\n",
              "    </tr>\n",
              "  </thead>\n",
              "  <tbody>\n",
              "    <tr>\n",
              "      <th>month</th>\n",
              "      <td>1.000000</td>\n",
              "      <td>-0.781557</td>\n",
              "      <td>-0.738084</td>\n",
              "      <td>-0.315742</td>\n",
              "      <td>-0.862489</td>\n",
              "      <td>-0.371774</td>\n",
              "      <td>0.123705</td>\n",
              "      <td>-0.427023</td>\n",
              "      <td>-0.478187</td>\n",
              "      <td>-0.036228</td>\n",
              "      <td>-0.523854</td>\n",
              "      <td>0.190978</td>\n",
              "    </tr>\n",
              "    <tr>\n",
              "      <th>america_tropical_interpretive_center</th>\n",
              "      <td>-0.781557</td>\n",
              "      <td>1.000000</td>\n",
              "      <td>0.854877</td>\n",
              "      <td>0.540915</td>\n",
              "      <td>0.903600</td>\n",
              "      <td>0.279719</td>\n",
              "      <td>-0.064350</td>\n",
              "      <td>0.740965</td>\n",
              "      <td>0.495974</td>\n",
              "      <td>0.184422</td>\n",
              "      <td>0.687420</td>\n",
              "      <td>-0.141813</td>\n",
              "    </tr>\n",
              "    <tr>\n",
              "      <th>avila_adobe</th>\n",
              "      <td>-0.738084</td>\n",
              "      <td>0.854877</td>\n",
              "      <td>1.000000</td>\n",
              "      <td>0.591643</td>\n",
              "      <td>0.868099</td>\n",
              "      <td>0.415099</td>\n",
              "      <td>0.074130</td>\n",
              "      <td>0.815451</td>\n",
              "      <td>0.441115</td>\n",
              "      <td>0.161775</td>\n",
              "      <td>0.611342</td>\n",
              "      <td>-0.199426</td>\n",
              "    </tr>\n",
              "    <tr>\n",
              "      <th>chinese_american_museum</th>\n",
              "      <td>-0.315742</td>\n",
              "      <td>0.540915</td>\n",
              "      <td>0.591643</td>\n",
              "      <td>1.000000</td>\n",
              "      <td>0.798199</td>\n",
              "      <td>0.164809</td>\n",
              "      <td>0.093247</td>\n",
              "      <td>0.728407</td>\n",
              "      <td>0.151055</td>\n",
              "      <td>0.210557</td>\n",
              "      <td>0.610546</td>\n",
              "      <td>-0.073815</td>\n",
              "    </tr>\n",
              "    <tr>\n",
              "      <th>gateway_to_nature_center</th>\n",
              "      <td>-0.862489</td>\n",
              "      <td>0.903600</td>\n",
              "      <td>0.868099</td>\n",
              "      <td>0.798199</td>\n",
              "      <td>1.000000</td>\n",
              "      <td>0.823914</td>\n",
              "      <td>NaN</td>\n",
              "      <td>0.631082</td>\n",
              "      <td>0.211394</td>\n",
              "      <td>0.379469</td>\n",
              "      <td>0.589042</td>\n",
              "      <td>-0.171393</td>\n",
              "    </tr>\n",
              "    <tr>\n",
              "      <th>firehouse_museum</th>\n",
              "      <td>-0.371774</td>\n",
              "      <td>0.279719</td>\n",
              "      <td>0.415099</td>\n",
              "      <td>0.164809</td>\n",
              "      <td>0.823914</td>\n",
              "      <td>1.000000</td>\n",
              "      <td>0.405120</td>\n",
              "      <td>0.828048</td>\n",
              "      <td>0.153649</td>\n",
              "      <td>-0.129243</td>\n",
              "      <td>0.598201</td>\n",
              "      <td>-0.138686</td>\n",
              "    </tr>\n",
              "    <tr>\n",
              "      <th>hellman_quon</th>\n",
              "      <td>0.123705</td>\n",
              "      <td>-0.064350</td>\n",
              "      <td>0.074130</td>\n",
              "      <td>0.093247</td>\n",
              "      <td>NaN</td>\n",
              "      <td>0.405120</td>\n",
              "      <td>1.000000</td>\n",
              "      <td>NaN</td>\n",
              "      <td>0.235122</td>\n",
              "      <td>0.122002</td>\n",
              "      <td>NaN</td>\n",
              "      <td>NaN</td>\n",
              "    </tr>\n",
              "    <tr>\n",
              "      <th>iamla</th>\n",
              "      <td>-0.427023</td>\n",
              "      <td>0.740965</td>\n",
              "      <td>0.815451</td>\n",
              "      <td>0.728407</td>\n",
              "      <td>0.631082</td>\n",
              "      <td>0.828048</td>\n",
              "      <td>NaN</td>\n",
              "      <td>1.000000</td>\n",
              "      <td>0.301738</td>\n",
              "      <td>0.432899</td>\n",
              "      <td>0.705979</td>\n",
              "      <td>-0.068401</td>\n",
              "    </tr>\n",
              "    <tr>\n",
              "      <th>pico_house</th>\n",
              "      <td>-0.478187</td>\n",
              "      <td>0.495974</td>\n",
              "      <td>0.441115</td>\n",
              "      <td>0.151055</td>\n",
              "      <td>0.211394</td>\n",
              "      <td>0.153649</td>\n",
              "      <td>0.235122</td>\n",
              "      <td>0.301738</td>\n",
              "      <td>1.000000</td>\n",
              "      <td>0.512501</td>\n",
              "      <td>0.286410</td>\n",
              "      <td>-0.172590</td>\n",
              "    </tr>\n",
              "    <tr>\n",
              "      <th>visitor_center/_el_tranquilo_gallery</th>\n",
              "      <td>-0.036228</td>\n",
              "      <td>0.184422</td>\n",
              "      <td>0.161775</td>\n",
              "      <td>0.210557</td>\n",
              "      <td>0.379469</td>\n",
              "      <td>-0.129243</td>\n",
              "      <td>0.122002</td>\n",
              "      <td>0.432899</td>\n",
              "      <td>0.512501</td>\n",
              "      <td>1.000000</td>\n",
              "      <td>NaN</td>\n",
              "      <td>0.590257</td>\n",
              "    </tr>\n",
              "    <tr>\n",
              "      <th>museum_of_social_justice</th>\n",
              "      <td>-0.523854</td>\n",
              "      <td>0.687420</td>\n",
              "      <td>0.611342</td>\n",
              "      <td>0.610546</td>\n",
              "      <td>0.589042</td>\n",
              "      <td>0.598201</td>\n",
              "      <td>NaN</td>\n",
              "      <td>0.705979</td>\n",
              "      <td>0.286410</td>\n",
              "      <td>NaN</td>\n",
              "      <td>1.000000</td>\n",
              "      <td>0.072147</td>\n",
              "    </tr>\n",
              "    <tr>\n",
              "      <th>biscailuz_gallery/_pk_outdoor_exhibit</th>\n",
              "      <td>0.190978</td>\n",
              "      <td>-0.141813</td>\n",
              "      <td>-0.199426</td>\n",
              "      <td>-0.073815</td>\n",
              "      <td>-0.171393</td>\n",
              "      <td>-0.138686</td>\n",
              "      <td>NaN</td>\n",
              "      <td>-0.068401</td>\n",
              "      <td>-0.172590</td>\n",
              "      <td>0.590257</td>\n",
              "      <td>0.072147</td>\n",
              "      <td>1.000000</td>\n",
              "    </tr>\n",
              "  </tbody>\n",
              "</table>\n",
              "</div>\n",
              "    <div class=\"colab-df-buttons\">\n",
              "\n",
              "  <div class=\"colab-df-container\">\n",
              "    <button class=\"colab-df-convert\" onclick=\"convertToInteractive('df-9d711e3d-4792-4d63-8ad8-7cfdf268b91f')\"\n",
              "            title=\"Convert this dataframe to an interactive table.\"\n",
              "            style=\"display:none;\">\n",
              "\n",
              "  <svg xmlns=\"http://www.w3.org/2000/svg\" height=\"24px\" viewBox=\"0 -960 960 960\">\n",
              "    <path d=\"M120-120v-720h720v720H120Zm60-500h600v-160H180v160Zm220 220h160v-160H400v160Zm0 220h160v-160H400v160ZM180-400h160v-160H180v160Zm440 0h160v-160H620v160ZM180-180h160v-160H180v160Zm440 0h160v-160H620v160Z\"/>\n",
              "  </svg>\n",
              "    </button>\n",
              "\n",
              "  <style>\n",
              "    .colab-df-container {\n",
              "      display:flex;\n",
              "      gap: 12px;\n",
              "    }\n",
              "\n",
              "    .colab-df-convert {\n",
              "      background-color: #E8F0FE;\n",
              "      border: none;\n",
              "      border-radius: 50%;\n",
              "      cursor: pointer;\n",
              "      display: none;\n",
              "      fill: #1967D2;\n",
              "      height: 32px;\n",
              "      padding: 0 0 0 0;\n",
              "      width: 32px;\n",
              "    }\n",
              "\n",
              "    .colab-df-convert:hover {\n",
              "      background-color: #E2EBFA;\n",
              "      box-shadow: 0px 1px 2px rgba(60, 64, 67, 0.3), 0px 1px 3px 1px rgba(60, 64, 67, 0.15);\n",
              "      fill: #174EA6;\n",
              "    }\n",
              "\n",
              "    .colab-df-buttons div {\n",
              "      margin-bottom: 4px;\n",
              "    }\n",
              "\n",
              "    [theme=dark] .colab-df-convert {\n",
              "      background-color: #3B4455;\n",
              "      fill: #D2E3FC;\n",
              "    }\n",
              "\n",
              "    [theme=dark] .colab-df-convert:hover {\n",
              "      background-color: #434B5C;\n",
              "      box-shadow: 0px 1px 3px 1px rgba(0, 0, 0, 0.15);\n",
              "      filter: drop-shadow(0px 1px 2px rgba(0, 0, 0, 0.3));\n",
              "      fill: #FFFFFF;\n",
              "    }\n",
              "  </style>\n",
              "\n",
              "    <script>\n",
              "      const buttonEl =\n",
              "        document.querySelector('#df-9d711e3d-4792-4d63-8ad8-7cfdf268b91f button.colab-df-convert');\n",
              "      buttonEl.style.display =\n",
              "        google.colab.kernel.accessAllowed ? 'block' : 'none';\n",
              "\n",
              "      async function convertToInteractive(key) {\n",
              "        const element = document.querySelector('#df-9d711e3d-4792-4d63-8ad8-7cfdf268b91f');\n",
              "        const dataTable =\n",
              "          await google.colab.kernel.invokeFunction('convertToInteractive',\n",
              "                                                    [key], {});\n",
              "        if (!dataTable) return;\n",
              "\n",
              "        const docLinkHtml = 'Like what you see? Visit the ' +\n",
              "          '<a target=\"_blank\" href=https://colab.research.google.com/notebooks/data_table.ipynb>data table notebook</a>'\n",
              "          + ' to learn more about interactive tables.';\n",
              "        element.innerHTML = '';\n",
              "        dataTable['output_type'] = 'display_data';\n",
              "        await google.colab.output.renderOutput(dataTable, element);\n",
              "        const docLink = document.createElement('div');\n",
              "        docLink.innerHTML = docLinkHtml;\n",
              "        element.appendChild(docLink);\n",
              "      }\n",
              "    </script>\n",
              "  </div>\n",
              "\n",
              "\n",
              "<div id=\"df-f5aa6f37-dfc4-4173-bb96-d15735451a10\">\n",
              "  <button class=\"colab-df-quickchart\" onclick=\"quickchart('df-f5aa6f37-dfc4-4173-bb96-d15735451a10')\"\n",
              "            title=\"Suggest charts\"\n",
              "            style=\"display:none;\">\n",
              "\n",
              "<svg xmlns=\"http://www.w3.org/2000/svg\" height=\"24px\"viewBox=\"0 0 24 24\"\n",
              "     width=\"24px\">\n",
              "    <g>\n",
              "        <path d=\"M19 3H5c-1.1 0-2 .9-2 2v14c0 1.1.9 2 2 2h14c1.1 0 2-.9 2-2V5c0-1.1-.9-2-2-2zM9 17H7v-7h2v7zm4 0h-2V7h2v10zm4 0h-2v-4h2v4z\"/>\n",
              "    </g>\n",
              "</svg>\n",
              "  </button>\n",
              "\n",
              "<style>\n",
              "  .colab-df-quickchart {\n",
              "      --bg-color: #E8F0FE;\n",
              "      --fill-color: #1967D2;\n",
              "      --hover-bg-color: #E2EBFA;\n",
              "      --hover-fill-color: #174EA6;\n",
              "      --disabled-fill-color: #AAA;\n",
              "      --disabled-bg-color: #DDD;\n",
              "  }\n",
              "\n",
              "  [theme=dark] .colab-df-quickchart {\n",
              "      --bg-color: #3B4455;\n",
              "      --fill-color: #D2E3FC;\n",
              "      --hover-bg-color: #434B5C;\n",
              "      --hover-fill-color: #FFFFFF;\n",
              "      --disabled-bg-color: #3B4455;\n",
              "      --disabled-fill-color: #666;\n",
              "  }\n",
              "\n",
              "  .colab-df-quickchart {\n",
              "    background-color: var(--bg-color);\n",
              "    border: none;\n",
              "    border-radius: 50%;\n",
              "    cursor: pointer;\n",
              "    display: none;\n",
              "    fill: var(--fill-color);\n",
              "    height: 32px;\n",
              "    padding: 0;\n",
              "    width: 32px;\n",
              "  }\n",
              "\n",
              "  .colab-df-quickchart:hover {\n",
              "    background-color: var(--hover-bg-color);\n",
              "    box-shadow: 0 1px 2px rgba(60, 64, 67, 0.3), 0 1px 3px 1px rgba(60, 64, 67, 0.15);\n",
              "    fill: var(--button-hover-fill-color);\n",
              "  }\n",
              "\n",
              "  .colab-df-quickchart-complete:disabled,\n",
              "  .colab-df-quickchart-complete:disabled:hover {\n",
              "    background-color: var(--disabled-bg-color);\n",
              "    fill: var(--disabled-fill-color);\n",
              "    box-shadow: none;\n",
              "  }\n",
              "\n",
              "  .colab-df-spinner {\n",
              "    border: 2px solid var(--fill-color);\n",
              "    border-color: transparent;\n",
              "    border-bottom-color: var(--fill-color);\n",
              "    animation:\n",
              "      spin 1s steps(1) infinite;\n",
              "  }\n",
              "\n",
              "  @keyframes spin {\n",
              "    0% {\n",
              "      border-color: transparent;\n",
              "      border-bottom-color: var(--fill-color);\n",
              "      border-left-color: var(--fill-color);\n",
              "    }\n",
              "    20% {\n",
              "      border-color: transparent;\n",
              "      border-left-color: var(--fill-color);\n",
              "      border-top-color: var(--fill-color);\n",
              "    }\n",
              "    30% {\n",
              "      border-color: transparent;\n",
              "      border-left-color: var(--fill-color);\n",
              "      border-top-color: var(--fill-color);\n",
              "      border-right-color: var(--fill-color);\n",
              "    }\n",
              "    40% {\n",
              "      border-color: transparent;\n",
              "      border-right-color: var(--fill-color);\n",
              "      border-top-color: var(--fill-color);\n",
              "    }\n",
              "    60% {\n",
              "      border-color: transparent;\n",
              "      border-right-color: var(--fill-color);\n",
              "    }\n",
              "    80% {\n",
              "      border-color: transparent;\n",
              "      border-right-color: var(--fill-color);\n",
              "      border-bottom-color: var(--fill-color);\n",
              "    }\n",
              "    90% {\n",
              "      border-color: transparent;\n",
              "      border-bottom-color: var(--fill-color);\n",
              "    }\n",
              "  }\n",
              "</style>\n",
              "\n",
              "  <script>\n",
              "    async function quickchart(key) {\n",
              "      const quickchartButtonEl =\n",
              "        document.querySelector('#' + key + ' button');\n",
              "      quickchartButtonEl.disabled = true;  // To prevent multiple clicks.\n",
              "      quickchartButtonEl.classList.add('colab-df-spinner');\n",
              "      try {\n",
              "        const charts = await google.colab.kernel.invokeFunction(\n",
              "            'suggestCharts', [key], {});\n",
              "      } catch (error) {\n",
              "        console.error('Error during call to suggestCharts:', error);\n",
              "      }\n",
              "      quickchartButtonEl.classList.remove('colab-df-spinner');\n",
              "      quickchartButtonEl.classList.add('colab-df-quickchart-complete');\n",
              "    }\n",
              "    (() => {\n",
              "      let quickchartButtonEl =\n",
              "        document.querySelector('#df-f5aa6f37-dfc4-4173-bb96-d15735451a10 button');\n",
              "      quickchartButtonEl.style.display =\n",
              "        google.colab.kernel.accessAllowed ? 'block' : 'none';\n",
              "    })();\n",
              "  </script>\n",
              "</div>\n",
              "    </div>\n",
              "  </div>\n"
            ],
            "application/vnd.google.colaboratory.intrinsic+json": {
              "type": "dataframe",
              "summary": "{\n  \"name\": \"df\",\n  \"rows\": 12,\n  \"fields\": [\n    {\n      \"column\": \"month\",\n      \"properties\": {\n        \"dtype\": \"number\",\n        \"std\": 0.5232545559065855,\n        \"min\": -0.8624893087050025,\n        \"max\": 1.0,\n        \"num_unique_values\": 12,\n        \"samples\": [\n          -0.5238541833199732,\n          -0.03622779476069674,\n          1.0\n        ],\n        \"semantic_type\": \"\",\n        \"description\": \"\"\n      }\n    },\n    {\n      \"column\": \"america_tropical_interpretive_center\",\n      \"properties\": {\n        \"dtype\": \"number\",\n        \"std\": 0.5234355434427775,\n        \"min\": -0.7815568377505373,\n        \"max\": 1.0,\n        \"num_unique_values\": 12,\n        \"samples\": [\n          0.6874202779008439,\n          0.18442226268987638,\n          -0.7815568377505373\n        ],\n        \"semantic_type\": \"\",\n        \"description\": \"\"\n      }\n    },\n    {\n      \"column\": \"avila_adobe\",\n      \"properties\": {\n        \"dtype\": \"number\",\n        \"std\": 0.5097826499925813,\n        \"min\": -0.7380842783808589,\n        \"max\": 1.0,\n        \"num_unique_values\": 12,\n        \"samples\": [\n          0.6113419178737143,\n          0.16177479032757774,\n          -0.7380842783808589\n        ],\n        \"semantic_type\": \"\",\n        \"description\": \"\"\n      }\n    },\n    {\n      \"column\": \"chinese_american_museum\",\n      \"properties\": {\n        \"dtype\": \"number\",\n        \"std\": 0.39357111093284575,\n        \"min\": -0.3157422463767422,\n        \"max\": 1.0,\n        \"num_unique_values\": 12,\n        \"samples\": [\n          0.6105455007622725,\n          0.21055704834588343,\n          -0.3157422463767422\n        ],\n        \"semantic_type\": \"\",\n        \"description\": \"\"\n      }\n    },\n    {\n      \"column\": \"gateway_to_nature_center\",\n      \"properties\": {\n        \"dtype\": \"number\",\n        \"std\": 0.5623581679124167,\n        \"min\": -0.8624893087050025,\n        \"max\": 1.0,\n        \"num_unique_values\": 11,\n        \"samples\": [\n          0.8239144031949334,\n          -0.8624893087050025,\n          0.589042216577715\n        ],\n        \"semantic_type\": \"\",\n        \"description\": \"\"\n      }\n    },\n    {\n      \"column\": \"firehouse_museum\",\n      \"properties\": {\n        \"dtype\": \"number\",\n        \"std\": 0.4273914891204837,\n        \"min\": -0.37177374982466627,\n        \"max\": 1.0,\n        \"num_unique_values\": 12,\n        \"samples\": [\n          0.5982007248021808,\n          -0.12924329382337987,\n          -0.37177374982466627\n        ],\n        \"semantic_type\": \"\",\n        \"description\": \"\"\n      }\n    },\n    {\n      \"column\": \"hellman_quon\",\n      \"properties\": {\n        \"dtype\": \"number\",\n        \"std\": 0.33239833698771126,\n        \"min\": -0.06435040394083658,\n        \"max\": 1.0,\n        \"num_unique_values\": 8,\n        \"samples\": [\n          -0.06435040394083658,\n          1.0,\n          0.12370504516449454\n        ],\n        \"semantic_type\": \"\",\n        \"description\": \"\"\n      }\n    },\n    {\n      \"column\": \"iamla\",\n      \"properties\": {\n        \"dtype\": \"number\",\n        \"std\": 0.43011380483161127,\n        \"min\": -0.4270232119450841,\n        \"max\": 1.0,\n        \"num_unique_values\": 11,\n        \"samples\": [\n          0.8280479173718814,\n          -0.4270232119450841,\n          0.7059787998103251\n        ],\n        \"semantic_type\": \"\",\n        \"description\": \"\"\n      }\n    },\n    {\n      \"column\": \"pico_house\",\n      \"properties\": {\n        \"dtype\": \"number\",\n        \"std\": 0.3643761942034655,\n        \"min\": -0.4781868214127241,\n        \"max\": 1.0,\n        \"num_unique_values\": 12,\n        \"samples\": [\n          0.28641005595258223,\n          0.5125008487272095,\n          -0.4781868214127241\n        ],\n        \"semantic_type\": \"\",\n        \"description\": \"\"\n      }\n    },\n    {\n      \"column\": \"visitor_center/_el_tranquilo_gallery\",\n      \"properties\": {\n        \"dtype\": \"number\",\n        \"std\": 0.31801433603774554,\n        \"min\": -0.12924329382337987,\n        \"max\": 1.0,\n        \"num_unique_values\": 11,\n        \"samples\": [\n          -0.12924329382337987,\n          -0.03622779476069674,\n          1.0\n        ],\n        \"semantic_type\": \"\",\n        \"description\": \"\"\n      }\n    },\n    {\n      \"column\": \"museum_of_social_justice\",\n      \"properties\": {\n        \"dtype\": \"number\",\n        \"std\": 0.42603328214467734,\n        \"min\": -0.5238541833199732,\n        \"max\": 1.0,\n        \"num_unique_values\": 10,\n        \"samples\": [\n          1.0,\n          0.6874202779008439,\n          0.5982007248021808\n        ],\n        \"semantic_type\": \"\",\n        \"description\": \"\"\n      }\n    },\n    {\n      \"column\": \"biscailuz_gallery/_pk_outdoor_exhibit\",\n      \"properties\": {\n        \"dtype\": \"number\",\n        \"std\": 0.3830040849651268,\n        \"min\": -0.19942591061464474,\n        \"max\": 1.0,\n        \"num_unique_values\": 11,\n        \"samples\": [\n          -0.13868631599049508,\n          0.19097820607957836,\n          0.07214679701102784\n        ],\n        \"semantic_type\": \"\",\n        \"description\": \"\"\n      }\n    }\n  ]\n}"
            }
          },
          "metadata": {},
          "execution_count": 41
        }
      ]
    },
    {
      "cell_type": "markdown",
      "source": [
        "# 12. Лінійний графік (відвідуваність Avila Adobe з часом)"
      ],
      "metadata": {
        "id": "iISRwC_FqPwW"
      }
    },
    {
      "cell_type": "code",
      "source": [
        "sns.lineplot(data=df, x='month', y='avila_adobe', color = 'purple')\n",
        "plt.title('Відвідуваність Avila Adobe з часом')\n",
        "plt.xticks(rotation=45)\n",
        "plt.show()"
      ],
      "metadata": {
        "colab": {
          "base_uri": "https://localhost:8080/",
          "height": 493
        },
        "id": "nP-dINgW1fXg",
        "outputId": "f4f881f7-da85-4317-ee02-85f648938066"
      },
      "execution_count": 43,
      "outputs": [
        {
          "output_type": "display_data",
          "data": {
            "text/plain": [
              "<Figure size 640x480 with 1 Axes>"
            ],
            "image/png": "[encoded data removed]"
          },
          "metadata": {}
        }
      ]
    },
    {
      "cell_type": "markdown",
      "source": [
        "13. Boxplot (розподіл відвідувачів Chinese American Museum по роках) Heatmap (кореляція між музеями)"
      ],
      "metadata": {
        "id": "vQYqtXCv1nh6"
      }
    },
    {
      "cell_type": "code",
      "source": [
        "df['year'] = df['month'].dt.year\n",
        "sns.set_style(\"darkgrid\")\n",
        "sns.boxplot(data=df, x='year', y='chinese_american_museum', color='purple')\n",
        "plt.title('Розподіл відвідувачів Chinese American Museum по роках')\n",
        "plt.show()"
      ],
      "metadata": {
        "colab": {
          "base_uri": "https://localhost:8080/",
          "height": 472
        },
        "id": "M-rNBDbp1nNU",
        "outputId": "88c30dba-08df-4786-ba7d-2e635f694f00"
      },
      "execution_count": 44,
      "outputs": [
        {
          "output_type": "display_data",
          "data": {
            "text/plain": [
              "<Figure size 640x480 with 1 Axes>"
            ],
            "image/png": "[encoded data removed]"
          },
          "metadata": {}
        }
      ]
    },
    {
      "cell_type": "markdown",
      "source": [
        "14. Histogram (розподіл кількості відвідувачів Gateway to Nature Center)"
      ],
      "metadata": {
        "id": "qf0x6R5j1nEt"
      }
    },
    {
      "cell_type": "code",
      "source": [
        "sns.set_style(\"whitegrid\")\n",
        "sns.histplot(data=df, x='gateway_to_nature_center', bins=20, kde=True, color = 'indigo')\n",
        "plt.title('Розподіл відвідувачів Gateway to Nature Center')\n",
        "plt.show()"
      ],
      "metadata": {
        "colab": {
          "base_uri": "https://localhost:8080/",
          "height": 472
        },
        "id": "J8ApgJHl16TK",
        "outputId": "7ad618ca-c835-4e49-f076-7c51639d0748"
      },
      "execution_count": 45,
      "outputs": [
        {
          "output_type": "display_data",
          "data": {
            "text/plain": [
              "<Figure size 640x480 with 1 Axes>"
            ],
            "image/png": "[encoded data removed]"
          },
          "metadata": {}
        }
      ]
    },
    {
      "cell_type": "markdown",
      "source": [
        "15. Barplot (середня кількість відвідувачів по музеях за всі роки)"
      ],
      "metadata": {
        "id": "uHEsSXHY194k"
      }
    },
    {
      "cell_type": "code",
      "source": [
        "avg_visitors = df.drop(columns=['month', 'year']).mean().sort_values(ascending=False)\n",
        "sns.barplot(x=avg_visitors.values, y=avg_visitors.index, palette='RdPu')\n",
        "plt.title('Середня кількість відвідувачів по музеях')\n",
        "plt.xlabel('Середня кількість відвідувачів')\n",
        "plt.ylabel('Музей')\n",
        "plt.show()"
      ],
      "metadata": {
        "colab": {
          "base_uri": "https://localhost:8080/",
          "height": 581
        },
        "id": "eCL-gaPX19wC",
        "outputId": "899bc82a-c9d9-4bc6-f29b-bb1aff9eff08"
      },
      "execution_count": 47,
      "outputs": [
        {
          "output_type": "stream",
          "name": "stderr",
          "text": [
            "<ipython-input-47-3ec95fa1cc7a>:2: FutureWarning: \n",
            "\n",
            "Passing `palette` without assigning `hue` is deprecated and will be removed in v0.14.0. Assign the `y` variable to `hue` and set `legend=False` for the same effect.\n",
            "\n",
            "  sns.barplot(x=avg_visitors.values, y=avg_visitors.index, palette='RdPu')\n"
          ]
        },
        {
          "output_type": "display_data",
          "data": {
            "text/plain": [
              "<Figure size 640x480 with 1 Axes>"
            ],
            "image/png": "[encoded data removed]"
          },
          "metadata": {}
        }
      ]
    }
  ]
}